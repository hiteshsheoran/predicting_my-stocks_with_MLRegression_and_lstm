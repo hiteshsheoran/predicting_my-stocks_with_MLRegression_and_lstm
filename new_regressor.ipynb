{
 "cells": [
  {
   "cell_type": "code",
   "execution_count": 1,
   "metadata": {},
   "outputs": [],
   "source": [
    "#importing the libraries\n",
    "import numpy as np\n",
    "import matplotlib.pyplot as plt\n",
    "import pandas as pd"
   ]
  },
  {
   "cell_type": "code",
   "execution_count": 2,
   "metadata": {},
   "outputs": [],
   "source": [
    "dataset_tv = pd.read_csv('2018-07-12_161320_mentions_by_media_type.csv')\n",
    "dataset_radio = pd.read_csv('2018-07-12_161430_mentions_by_media_type.csv')\n",
    "dataset_online_news = pd.read_csv('ONLINE-NEWS.csv')\n",
    "dataset_stocks = pd.read_csv('MSFT.csv')\n",
    "\n",
    "#removing excess information and prepairing the training dataset\n",
    "dataset_radio = dataset_radio.iloc[0:31,2:3]\n",
    "dataset_onlinenews = dataset_online_news.iloc[0:31,2:3]\n",
    "dataset_tv = dataset_tv.iloc[0:31,2:3]\n",
    "dataset_stocks = dataset_stocks.iloc[0:31,1:2]\n"
   ]
  },
  {
   "cell_type": "code",
   "execution_count": 3,
   "metadata": {},
   "outputs": [],
   "source": [
    "dataset_total = pd.concat((dataset_tv['MENTIONS'], dataset_radio['MENTIONS'], dataset_onlinenews['MENTIONS'], dataset_stocks['Open']), axis = 1)\n"
   ]
  },
  {
   "cell_type": "code",
   "execution_count": 4,
   "metadata": {},
   "outputs": [],
   "source": [
    "#feature scaling \n",
    "from sklearn.preprocessing import MinMaxScaler\n",
    "sc = MinMaxScaler(feature_range = (0, 1))\n",
    "dataset_scaled = sc.fit_transform(dataset_total)\n"
   ]
  },
  {
   "cell_type": "code",
   "execution_count": 5,
   "metadata": {},
   "outputs": [],
   "source": [
    "\n",
    "Training_dataset_scaled = dataset_scaled[0:25,0:4]\n",
    "\n",
    "test_dataset_scaled = dataset_scaled[25:31,0:4]\n"
   ]
  },
  {
   "cell_type": "code",
   "execution_count": 8,
   "metadata": {},
   "outputs": [
    {
     "data": {
      "text/plain": [
       "20"
      ]
     },
     "execution_count": 8,
     "metadata": {},
     "output_type": "execute_result"
    }
   ],
   "source": [
    "# Creating a data structure with 5 timesteps and 1 output\n",
    "x_train = []\n",
    "y_train = []\n",
    "for i in range(5, 25):\n",
    "    x_train.append(Training_dataset_scaled[i-5:i,0:4])\n",
    "    y_train.append(Training_dataset_scaled[i,3])\n",
    "x_train, y_train = np.array(x_train), np.array(y_train)\n",
    "x_train.shape[0]\n",
    "#x_train.shape[1]\n",
    "#x_train.shape[2]"
   ]
  },
  {
   "cell_type": "code",
   "execution_count": 9,
   "metadata": {},
   "outputs": [],
   "source": [
    "## reshaping\n",
    "x_train = np.reshape(x_train, (x_train.shape[0], x_train.shape[1],x_train.shape[2]))\n"
   ]
  },
  {
   "cell_type": "code",
   "execution_count": 10,
   "metadata": {},
   "outputs": [
    {
     "name": "stderr",
     "output_type": "stream",
     "text": [
      "C:\\Users\\Shalini\\Anaconda3\\lib\\site-packages\\h5py\\__init__.py:36: FutureWarning: Conversion of the second argument of issubdtype from `float` to `np.floating` is deprecated. In future, it will be treated as `np.float64 == np.dtype(float).type`.\n",
      "  from ._conv import register_converters as _register_converters\n",
      "Using TensorFlow backend.\n"
     ]
    }
   ],
   "source": [
    "#Building the RNN\n",
    "\n",
    "#importing the keras library and pakages\n",
    "from keras.models import Sequential\n",
    "from keras.layers import Dropout\n",
    "from keras.layers import Dense\n",
    "from keras.layers import LSTM\n",
    "\n",
    "#initialising the rnn\n",
    "regressor = Sequential() \n",
    "\n",
    "# Adding the first LSTM layer and some Dropout regularisation\n",
    "regressor.add(LSTM(units = 20, return_sequences = True, input_shape = (x_train.shape[1],x_train.shape[2])))\n",
    "regressor.add(Dropout(0.2))\n",
    "\n",
    "# Adding a second LSTM layer and some Dropout regularisation\n",
    "regressor.add(LSTM(units = 20, return_sequences = True))\n",
    "regressor.add(Dropout(0.2))\n",
    "\n",
    "# Adding a third LSTM layer and some Dropout regularisation\n",
    "regressor.add(LSTM(units = 20))\n",
    "regressor.add(Dropout(0.2))\n",
    "\n",
    "# Adding the output layer\n",
    "regressor.add(Dense(units = 1))\n",
    "\n",
    "# Compiling the RNN\n",
    "regressor.compile(optimizer = 'adam', loss = 'mean_squared_error')"
   ]
  },
  {
   "cell_type": "code",
   "execution_count": 11,
   "metadata": {},
   "outputs": [
    {
     "name": "stdout",
     "output_type": "stream",
     "text": [
      "Epoch 1/125\n",
      "20/20 [==============================] - 3s 163ms/step - loss: 0.1366\n",
      "Epoch 2/125\n",
      "20/20 [==============================] - 0s 960us/step - loss: 0.1330\n",
      "Epoch 3/125\n",
      "20/20 [==============================] - 0s 1ms/step - loss: 0.1285\n",
      "Epoch 4/125\n",
      "20/20 [==============================] - 0s 1ms/step - loss: 0.1224\n",
      "Epoch 5/125\n",
      "20/20 [==============================] - 0s 236us/step - loss: 0.1163\n",
      "Epoch 6/125\n",
      "20/20 [==============================] - 0s 934us/step - loss: 0.1129\n",
      "Epoch 7/125\n",
      "20/20 [==============================] - 0s 866us/step - loss: 0.1041\n",
      "Epoch 8/125\n",
      "20/20 [==============================] - 0s 709us/step - loss: 0.1032\n",
      "Epoch 9/125\n",
      "20/20 [==============================] - 0s 578us/step - loss: 0.0961\n",
      "Epoch 10/125\n",
      "20/20 [==============================] - 0s 203us/step - loss: 0.0918\n",
      "Epoch 11/125\n",
      "20/20 [==============================] - 0s 2ms/step - loss: 0.0874\n",
      "Epoch 12/125\n",
      "20/20 [==============================] - 0s 764us/step - loss: 0.0822\n",
      "Epoch 13/125\n",
      "20/20 [==============================] - 0s 759us/step - loss: 0.0759\n",
      "Epoch 14/125\n",
      "20/20 [==============================] - 0s 786us/step - loss: 0.0711\n",
      "Epoch 15/125\n",
      "20/20 [==============================] - 0s 623us/step - loss: 0.0685\n",
      "Epoch 16/125\n",
      "20/20 [==============================] - 0s 866us/step - loss: 0.0626\n",
      "Epoch 17/125\n",
      "20/20 [==============================] - 0s 741us/step - loss: 0.0590\n",
      "Epoch 18/125\n",
      "20/20 [==============================] - 0s 798us/step - loss: 0.0504\n",
      "Epoch 19/125\n",
      "20/20 [==============================] - 0s 777us/step - loss: 0.0447\n",
      "Epoch 20/125\n",
      "20/20 [==============================] - 0s 601us/step - loss: 0.0390\n",
      "Epoch 21/125\n",
      "20/20 [==============================] - 0s 952us/step - loss: 0.0336\n",
      "Epoch 22/125\n",
      "20/20 [==============================] - 0s 850us/step - loss: 0.0361\n",
      "Epoch 23/125\n",
      "20/20 [==============================] - 0s 757us/step - loss: 0.0323\n",
      "Epoch 24/125\n",
      "20/20 [==============================] - 0s 840us/step - loss: 0.0295\n",
      "Epoch 25/125\n",
      "20/20 [==============================] - 0s 834us/step - loss: 0.0239\n",
      "Epoch 26/125\n",
      "20/20 [==============================] - 0s 770us/step - loss: 0.0200\n",
      "Epoch 27/125\n",
      "20/20 [==============================] - 0s 796us/step - loss: 0.0279\n",
      "Epoch 28/125\n",
      "20/20 [==============================] - 0s 951us/step - loss: 0.0226\n",
      "Epoch 29/125\n",
      "20/20 [==============================] - 0s 809us/step - loss: 0.0296\n",
      "Epoch 30/125\n",
      "20/20 [==============================] - 0s 852us/step - loss: 0.0272\n",
      "Epoch 31/125\n",
      "20/20 [==============================] - 0s 927us/step - loss: 0.0233\n",
      "Epoch 32/125\n",
      "20/20 [==============================] - 0s 712us/step - loss: 0.0364\n",
      "Epoch 33/125\n",
      "20/20 [==============================] - 0s 872us/step - loss: 0.0212\n",
      "Epoch 34/125\n",
      "20/20 [==============================] - 0s 102us/step - loss: 0.0237\n",
      "Epoch 35/125\n",
      "20/20 [==============================] - 0s 927us/step - loss: 0.0268\n",
      "Epoch 36/125\n",
      "20/20 [==============================] - 0s 136us/step - loss: 0.0312\n",
      "Epoch 37/125\n",
      "20/20 [==============================] - 0s 1ms/step - loss: 0.0231\n",
      "Epoch 38/125\n",
      "20/20 [==============================] - 0s 907us/step - loss: 0.0244\n",
      "Epoch 39/125\n",
      "20/20 [==============================] - 0s 850us/step - loss: 0.0248\n",
      "Epoch 40/125\n",
      "20/20 [==============================] - 0s 799us/step - loss: 0.0191\n",
      "Epoch 41/125\n",
      "20/20 [==============================] - 0s 845us/step - loss: 0.0214\n",
      "Epoch 42/125\n",
      "20/20 [==============================] - 0s 957us/step - loss: 0.0213\n",
      "Epoch 43/125\n",
      "20/20 [==============================] - 0s 799us/step - loss: 0.0228\n",
      "Epoch 44/125\n",
      "20/20 [==============================] - 0s 830us/step - loss: 0.0256\n",
      "Epoch 45/125\n",
      "20/20 [==============================] - 0s 769us/step - loss: 0.0286\n",
      "Epoch 46/125\n",
      "20/20 [==============================] - 0s 788us/step - loss: 0.0240\n",
      "Epoch 47/125\n",
      "20/20 [==============================] - 0s 459us/step - loss: 0.0305\n",
      "Epoch 48/125\n",
      "20/20 [==============================] - 0s 535us/step - loss: 0.0262\n",
      "Epoch 49/125\n",
      "20/20 [==============================] - 0s 1ms/step - loss: 0.0218\n",
      "Epoch 50/125\n",
      "20/20 [==============================] - 0s 766us/step - loss: 0.0218\n",
      "Epoch 51/125\n",
      "20/20 [==============================] - 0s 1ms/step - loss: 0.0199\n",
      "Epoch 52/125\n",
      "20/20 [==============================] - 0s 743us/step - loss: 0.0262\n",
      "Epoch 53/125\n",
      "20/20 [==============================] - 0s 714us/step - loss: 0.0209\n",
      "Epoch 54/125\n",
      "20/20 [==============================] - 0s 874us/step - loss: 0.0227\n",
      "Epoch 55/125\n",
      "20/20 [==============================] - 0s 293us/step - loss: 0.0222\n",
      "Epoch 56/125\n",
      "20/20 [==============================] - 0s 738us/step - loss: 0.0236\n",
      "Epoch 57/125\n",
      "20/20 [==============================] - 0s 1ms/step - loss: 0.0219\n",
      "Epoch 58/125\n",
      "20/20 [==============================] - 0s 1ms/step - loss: 0.0231\n",
      "Epoch 59/125\n",
      "20/20 [==============================] - 0s 761us/step - loss: 0.0175\n",
      "Epoch 60/125\n",
      "20/20 [==============================] - 0s 964us/step - loss: 0.0242\n",
      "Epoch 61/125\n",
      "20/20 [==============================] - 0s 1ms/step - loss: 0.0210\n",
      "Epoch 62/125\n",
      "20/20 [==============================] - 0s 743us/step - loss: 0.0226\n",
      "Epoch 63/125\n",
      "20/20 [==============================] - 0s 661us/step - loss: 0.0214\n",
      "Epoch 64/125\n",
      "20/20 [==============================] - 0s 445us/step - loss: 0.0236\n",
      "Epoch 65/125\n",
      "20/20 [==============================] - 0s 1ms/step - loss: 0.0224\n",
      "Epoch 66/125\n",
      "20/20 [==============================] - 0s 919us/step - loss: 0.0248\n",
      "Epoch 67/125\n",
      "20/20 [==============================] - 0s 482us/step - loss: 0.0169\n",
      "Epoch 68/125\n",
      "20/20 [==============================] - 0s 134us/step - loss: 0.0209\n",
      "Epoch 69/125\n",
      "20/20 [==============================] - 0s 1ms/step - loss: 0.0203\n",
      "Epoch 70/125\n",
      "20/20 [==============================] - 0s 542us/step - loss: 0.0201\n",
      "Epoch 71/125\n",
      "20/20 [==============================] - 0s 233us/step - loss: 0.0216\n",
      "Epoch 72/125\n",
      "20/20 [==============================] - 0s 161us/step - loss: 0.0199\n",
      "Epoch 73/125\n",
      "20/20 [==============================] - 0s 1ms/step - loss: 0.0190\n",
      "Epoch 74/125\n",
      "20/20 [==============================] - 0s 672us/step - loss: 0.0213\n",
      "Epoch 75/125\n",
      "20/20 [==============================] - 0s 918us/step - loss: 0.0199\n",
      "Epoch 76/125\n",
      "20/20 [==============================] - 0s 713us/step - loss: 0.0254\n",
      "Epoch 77/125\n",
      "20/20 [==============================] - 0s 678us/step - loss: 0.0218\n",
      "Epoch 78/125\n",
      "20/20 [==============================] - 0s 747us/step - loss: 0.0249\n",
      "Epoch 79/125\n",
      "20/20 [==============================] - 0s 825us/step - loss: 0.0197\n",
      "Epoch 80/125\n",
      "20/20 [==============================] - 0s 940us/step - loss: 0.0223\n",
      "Epoch 81/125\n",
      "20/20 [==============================] - 0s 796us/step - loss: 0.0205\n",
      "Epoch 82/125\n",
      "20/20 [==============================] - 0s 2ms/step - loss: 0.0180\n",
      "Epoch 83/125\n",
      "20/20 [==============================] - 0s 952us/step - loss: 0.0212\n",
      "Epoch 84/125\n",
      "20/20 [==============================] - 0s 1ms/step - loss: 0.0177\n",
      "Epoch 85/125\n",
      "20/20 [==============================] - 0s 1ms/step - loss: 0.0184\n",
      "Epoch 86/125\n",
      "20/20 [==============================] - 0s 961us/step - loss: 0.0165\n",
      "Epoch 87/125\n",
      "20/20 [==============================] - 0s 664us/step - loss: 0.0211\n",
      "Epoch 88/125\n",
      "20/20 [==============================] - 0s 1ms/step - loss: 0.0212\n",
      "Epoch 89/125\n",
      "20/20 [==============================] - 0s 583us/step - loss: 0.0201\n",
      "Epoch 90/125\n",
      "20/20 [==============================] - 0s 566us/step - loss: 0.0183\n",
      "Epoch 91/125\n",
      "20/20 [==============================] - 0s 645us/step - loss: 0.0172\n",
      "Epoch 92/125\n",
      "20/20 [==============================] - 0s 738us/step - loss: 0.0228\n",
      "Epoch 93/125\n",
      "20/20 [==============================] - 0s 653us/step - loss: 0.0177\n",
      "Epoch 94/125\n",
      "20/20 [==============================] - 0s 839us/step - loss: 0.0266\n",
      "Epoch 95/125\n",
      "20/20 [==============================] - 0s 773us/step - loss: 0.0191\n",
      "Epoch 96/125\n",
      "20/20 [==============================] - 0s 766us/step - loss: 0.0162\n",
      "Epoch 97/125\n",
      "20/20 [==============================] - 0s 156us/step - loss: 0.0167\n",
      "Epoch 98/125\n",
      "20/20 [==============================] - 0s 1ms/step - loss: 0.0218\n",
      "Epoch 99/125\n",
      "20/20 [==============================] - 0s 618us/step - loss: 0.0212\n",
      "Epoch 100/125\n",
      "20/20 [==============================] - 0s 977us/step - loss: 0.0164\n"
     ]
    },
    {
     "name": "stdout",
     "output_type": "stream",
     "text": [
      "Epoch 101/125\n",
      "20/20 [==============================] - 0s 1ms/step - loss: 0.0180\n",
      "Epoch 102/125\n",
      "20/20 [==============================] - 0s 833us/step - loss: 0.0203\n",
      "Epoch 103/125\n",
      "20/20 [==============================] - 0s 884us/step - loss: 0.0179\n",
      "Epoch 104/125\n",
      "20/20 [==============================] - 0s 880us/step - loss: 0.0188\n",
      "Epoch 105/125\n",
      "20/20 [==============================] - 0s 815us/step - loss: 0.0156\n",
      "Epoch 106/125\n",
      "20/20 [==============================] - 0s 820us/step - loss: 0.0161\n",
      "Epoch 107/125\n",
      "20/20 [==============================] - 0s 775us/step - loss: 0.0222\n",
      "Epoch 108/125\n",
      "20/20 [==============================] - 0s 825us/step - loss: 0.0156\n",
      "Epoch 109/125\n",
      "20/20 [==============================] - 0s 803us/step - loss: 0.0207\n",
      "Epoch 110/125\n",
      "20/20 [==============================] - 0s 817us/step - loss: 0.0179\n",
      "Epoch 111/125\n",
      "20/20 [==============================] - 0s 778us/step - loss: 0.0197\n",
      "Epoch 112/125\n",
      "20/20 [==============================] - 0s 803us/step - loss: 0.0158\n",
      "Epoch 113/125\n",
      "20/20 [==============================] - 0s 763us/step - loss: 0.0156\n",
      "Epoch 114/125\n",
      "20/20 [==============================] - 0s 768us/step - loss: 0.0247\n",
      "Epoch 115/125\n",
      "20/20 [==============================] - 0s 697us/step - loss: 0.0193\n",
      "Epoch 116/125\n",
      "20/20 [==============================] - 0s 746us/step - loss: 0.0210\n",
      "Epoch 117/125\n",
      "20/20 [==============================] - 0s 896us/step - loss: 0.0214\n",
      "Epoch 118/125\n",
      "20/20 [==============================] - 0s 853us/step - loss: 0.0182\n",
      "Epoch 119/125\n",
      "20/20 [==============================] - 0s 857us/step - loss: 0.0159\n",
      "Epoch 120/125\n",
      "20/20 [==============================] - 0s 1ms/step - loss: 0.0190\n",
      "Epoch 121/125\n",
      "20/20 [==============================] - 0s 644us/step - loss: 0.0150\n",
      "Epoch 122/125\n",
      "20/20 [==============================] - 0s 535us/step - loss: 0.0208\n",
      "Epoch 123/125\n",
      "20/20 [==============================] - 0s 526us/step - loss: 0.0201\n",
      "Epoch 124/125\n",
      "20/20 [==============================] - 0s 1ms/step - loss: 0.0187\n",
      "Epoch 125/125\n",
      "20/20 [==============================] - 0s 911us/step - loss: 0.0187\n"
     ]
    },
    {
     "data": {
      "text/plain": [
       "<keras.callbacks.History at 0x26e26614e10>"
      ]
     },
     "execution_count": 11,
     "metadata": {},
     "output_type": "execute_result"
    }
   ],
   "source": [
    "# Fitting the RNN to the Training set\n",
    "regressor.fit(x_train, y_train, epochs = 125, batch_size = 32)\n"
   ]
  },
  {
   "cell_type": "code",
   "execution_count": 13,
   "metadata": {},
   "outputs": [],
   "source": [
    "inputs = dataset_scaled[20:31,0:4]"
   ]
  },
  {
   "cell_type": "code",
   "execution_count": 18,
   "metadata": {},
   "outputs": [],
   "source": [
    "x_test = []\n",
    "for j in range(26, 31):\n",
    "    x_test.append(inputs[j-5:j, 0:4])"
   ]
  },
  {
   "cell_type": "code",
   "execution_count": 19,
   "metadata": {},
   "outputs": [],
   "source": [
    "x_test = np.array(x_test)"
   ]
  },
  {
   "cell_type": "code",
   "execution_count": 22,
   "metadata": {},
   "outputs": [],
   "source": [
    "x_test = np.reshape(x_test, (x_test.shape[1], x_test.shape[0], x_test.shape[2]))\n",
    "#x_test = x_test.reshape(1,-1)"
   ]
  },
  {
   "cell_type": "code",
   "execution_count": 23,
   "metadata": {},
   "outputs": [
    {
     "ename": "ValueError",
     "evalue": "Error when checking : expected lstm_1_input to have 3 dimensions, but got array with shape (1, 0)",
     "output_type": "error",
     "traceback": [
      "\u001b[1;31m---------------------------------------------------------------------------\u001b[0m",
      "\u001b[1;31mValueError\u001b[0m                                Traceback (most recent call last)",
      "\u001b[1;32m<ipython-input-23-c79d221d879a>\u001b[0m in \u001b[0;36m<module>\u001b[1;34m()\u001b[0m\n\u001b[1;32m----> 1\u001b[1;33m \u001b[0mpredicted_stock_price\u001b[0m \u001b[1;33m=\u001b[0m \u001b[0mregressor\u001b[0m\u001b[1;33m.\u001b[0m\u001b[0mpredict\u001b[0m\u001b[1;33m(\u001b[0m\u001b[0mx_test\u001b[0m\u001b[1;33m)\u001b[0m\u001b[1;33m\u001b[0m\u001b[0m\n\u001b[0m\u001b[0;32m      2\u001b[0m \u001b[0mpredicted_stock_price\u001b[0m \u001b[1;33m=\u001b[0m \u001b[0msc\u001b[0m\u001b[1;33m.\u001b[0m\u001b[0minverse_transform\u001b[0m\u001b[1;33m(\u001b[0m\u001b[0mpredicted_stock_price\u001b[0m\u001b[1;33m)\u001b[0m\u001b[1;33m\u001b[0m\u001b[0m\n\u001b[0;32m      3\u001b[0m \u001b[0mprint\u001b[0m\u001b[1;33m(\u001b[0m\u001b[0mpredicted_stock_price\u001b[0m\u001b[1;33m)\u001b[0m\u001b[1;33m\u001b[0m\u001b[0m\n",
      "\u001b[1;32m~\\Anaconda3\\lib\\site-packages\\keras\\models.py\u001b[0m in \u001b[0;36mpredict\u001b[1;34m(self, x, batch_size, verbose, steps)\u001b[0m\n\u001b[0;32m   1023\u001b[0m             \u001b[0mself\u001b[0m\u001b[1;33m.\u001b[0m\u001b[0mbuild\u001b[0m\u001b[1;33m(\u001b[0m\u001b[1;33m)\u001b[0m\u001b[1;33m\u001b[0m\u001b[0m\n\u001b[0;32m   1024\u001b[0m         return self.model.predict(x, batch_size=batch_size, verbose=verbose,\n\u001b[1;32m-> 1025\u001b[1;33m                                   steps=steps)\n\u001b[0m\u001b[0;32m   1026\u001b[0m \u001b[1;33m\u001b[0m\u001b[0m\n\u001b[0;32m   1027\u001b[0m     \u001b[1;32mdef\u001b[0m \u001b[0mpredict_on_batch\u001b[0m\u001b[1;33m(\u001b[0m\u001b[0mself\u001b[0m\u001b[1;33m,\u001b[0m \u001b[0mx\u001b[0m\u001b[1;33m)\u001b[0m\u001b[1;33m:\u001b[0m\u001b[1;33m\u001b[0m\u001b[0m\n",
      "\u001b[1;32m~\\Anaconda3\\lib\\site-packages\\keras\\engine\\training.py\u001b[0m in \u001b[0;36mpredict\u001b[1;34m(self, x, batch_size, verbose, steps)\u001b[0m\n\u001b[0;32m   1815\u001b[0m         x = _standardize_input_data(x, self._feed_input_names,\n\u001b[0;32m   1816\u001b[0m                                     \u001b[0mself\u001b[0m\u001b[1;33m.\u001b[0m\u001b[0m_feed_input_shapes\u001b[0m\u001b[1;33m,\u001b[0m\u001b[1;33m\u001b[0m\u001b[0m\n\u001b[1;32m-> 1817\u001b[1;33m                                     check_batch_axis=False)\n\u001b[0m\u001b[0;32m   1818\u001b[0m         \u001b[1;32mif\u001b[0m \u001b[0mself\u001b[0m\u001b[1;33m.\u001b[0m\u001b[0mstateful\u001b[0m\u001b[1;33m:\u001b[0m\u001b[1;33m\u001b[0m\u001b[0m\n\u001b[0;32m   1819\u001b[0m             \u001b[1;32mif\u001b[0m \u001b[0mx\u001b[0m\u001b[1;33m[\u001b[0m\u001b[1;36m0\u001b[0m\u001b[1;33m]\u001b[0m\u001b[1;33m.\u001b[0m\u001b[0mshape\u001b[0m\u001b[1;33m[\u001b[0m\u001b[1;36m0\u001b[0m\u001b[1;33m]\u001b[0m \u001b[1;33m>\u001b[0m \u001b[0mbatch_size\u001b[0m \u001b[1;32mand\u001b[0m \u001b[0mx\u001b[0m\u001b[1;33m[\u001b[0m\u001b[1;36m0\u001b[0m\u001b[1;33m]\u001b[0m\u001b[1;33m.\u001b[0m\u001b[0mshape\u001b[0m\u001b[1;33m[\u001b[0m\u001b[1;36m0\u001b[0m\u001b[1;33m]\u001b[0m \u001b[1;33m%\u001b[0m \u001b[0mbatch_size\u001b[0m \u001b[1;33m!=\u001b[0m \u001b[1;36m0\u001b[0m\u001b[1;33m:\u001b[0m\u001b[1;33m\u001b[0m\u001b[0m\n",
      "\u001b[1;32m~\\Anaconda3\\lib\\site-packages\\keras\\engine\\training.py\u001b[0m in \u001b[0;36m_standardize_input_data\u001b[1;34m(data, names, shapes, check_batch_axis, exception_prefix)\u001b[0m\n\u001b[0;32m    111\u001b[0m                         \u001b[1;34m': expected '\u001b[0m \u001b[1;33m+\u001b[0m \u001b[0mnames\u001b[0m\u001b[1;33m[\u001b[0m\u001b[0mi\u001b[0m\u001b[1;33m]\u001b[0m \u001b[1;33m+\u001b[0m \u001b[1;34m' to have '\u001b[0m \u001b[1;33m+\u001b[0m\u001b[1;33m\u001b[0m\u001b[0m\n\u001b[0;32m    112\u001b[0m                         \u001b[0mstr\u001b[0m\u001b[1;33m(\u001b[0m\u001b[0mlen\u001b[0m\u001b[1;33m(\u001b[0m\u001b[0mshape\u001b[0m\u001b[1;33m)\u001b[0m\u001b[1;33m)\u001b[0m \u001b[1;33m+\u001b[0m \u001b[1;34m' dimensions, but got array '\u001b[0m\u001b[1;33m\u001b[0m\u001b[0m\n\u001b[1;32m--> 113\u001b[1;33m                         'with shape ' + str(data_shape))\n\u001b[0m\u001b[0;32m    114\u001b[0m                 \u001b[1;32mif\u001b[0m \u001b[1;32mnot\u001b[0m \u001b[0mcheck_batch_axis\u001b[0m\u001b[1;33m:\u001b[0m\u001b[1;33m\u001b[0m\u001b[0m\n\u001b[0;32m    115\u001b[0m                     \u001b[0mdata_shape\u001b[0m \u001b[1;33m=\u001b[0m \u001b[0mdata_shape\u001b[0m\u001b[1;33m[\u001b[0m\u001b[1;36m1\u001b[0m\u001b[1;33m:\u001b[0m\u001b[1;33m]\u001b[0m\u001b[1;33m\u001b[0m\u001b[0m\n",
      "\u001b[1;31mValueError\u001b[0m: Error when checking : expected lstm_1_input to have 3 dimensions, but got array with shape (1, 0)"
     ]
    }
   ],
   "source": [
    "predicted_stock_price = regressor.predict(x_test)\n",
    "predicted_stock_price = sc.inverse_transform(predicted_stock_price)\n",
    "print(predicted_stock_price)"
   ]
  },
  {
   "cell_type": "code",
   "execution_count": null,
   "metadata": {},
   "outputs": [],
   "source": []
  }
 ],
 "metadata": {
  "kernelspec": {
   "display_name": "Python 3",
   "language": "python",
   "name": "python3"
  },
  "language_info": {
   "codemirror_mode": {
    "name": "ipython",
    "version": 3
   },
   "file_extension": ".py",
   "mimetype": "text/x-python",
   "name": "python",
   "nbconvert_exporter": "python",
   "pygments_lexer": "ipython3",
   "version": "3.6.1"
  }
 },
 "nbformat": 4,
 "nbformat_minor": 2
}
