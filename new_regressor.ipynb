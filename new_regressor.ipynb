{
 "cells": [
  {
   "cell_type": "code",
   "execution_count": 1,
   "metadata": {},
   "outputs": [],
   "source": [
    "#importing the libraries\n",
    "import numpy as np\n",
    "import matplotlib.pyplot as plt\n",
    "import pandas as pd"
   ]
  },
  {
   "cell_type": "code",
   "execution_count": 2,
   "metadata": {},
   "outputs": [],
   "source": [
    "dataset_tv = pd.read_csv('2018-07-12_161320_mentions_by_media_type.csv')\n",
    "dataset_radio = pd.read_csv('2018-07-12_161430_mentions_by_media_type.csv')\n",
    "dataset_online_news = pd.read_csv('ONLINE-NEWS.csv')\n",
    "dataset_stocks = pd.read_csv('MSFT.csv')\n",
    "\n",
    "#removing excess information and prepairing the training dataset\n",
    "dataset_radio = dataset_radio.iloc[0:31,2:3]\n",
    "dataset_onlinenews = dataset_online_news.iloc[0:31,2:3]\n",
    "dataset_tv = dataset_tv.iloc[0:31,2:3]\n",
    "dataset_stocks = dataset_stocks.iloc[0:31,1:2]\n"
   ]
  },
  {
   "cell_type": "code",
   "execution_count": 3,
   "metadata": {},
   "outputs": [],
   "source": [
    "dataset_total = pd.concat((dataset_tv['MENTIONS'], dataset_radio['MENTIONS'], dataset_onlinenews['MENTIONS'], dataset_stocks['Open']), axis = 1)\n"
   ]
  },
  {
   "cell_type": "code",
   "execution_count": 4,
   "metadata": {},
   "outputs": [],
   "source": [
    "#feature scaling \n",
    "from sklearn.preprocessing import MinMaxScaler\n",
    "sc = MinMaxScaler(feature_range = (0, 1))\n",
    "dataset_scaled = sc.fit_transform(dataset_total)\n"
   ]
  },
  {
   "cell_type": "code",
   "execution_count": 5,
   "metadata": {},
   "outputs": [],
   "source": [
    "\n",
    "Training_dataset_scaled = dataset_scaled[0:25,0:4]\n",
    "\n",
    "test_dataset_scaled = dataset_scaled[25:31,0:4]\n"
   ]
  },
  {
   "cell_type": "code",
   "execution_count": 6,
   "metadata": {},
   "outputs": [
    {
     "data": {
      "text/plain": [
       "20"
      ]
     },
     "execution_count": 6,
     "metadata": {},
     "output_type": "execute_result"
    }
   ],
   "source": [
    "# Creating a data structure with 5 timesteps and 1 output\n",
    "x_train = []\n",
    "y_train = []\n",
    "for i in range(5, 25):\n",
    "    x_train.append(Training_dataset_scaled[i-5:i,0:4])\n",
    "    y_train.append(Training_dataset_scaled[i,3])\n",
    "x_train, y_train = np.array(x_train), np.array(y_train)\n",
    "x_train.shape[0]\n",
    "#x_train.shape[1]\n",
    "#x_train.shape[2]"
   ]
  },
  {
   "cell_type": "code",
   "execution_count": 7,
   "metadata": {},
   "outputs": [],
   "source": [
    "## reshaping\n",
    "x_train = np.reshape(x_train, (x_train.shape[0], x_train.shape[1],x_train.shape[2]))\n"
   ]
  },
  {
   "cell_type": "code",
   "execution_count": 8,
   "metadata": {},
   "outputs": [
    {
     "name": "stderr",
     "output_type": "stream",
     "text": [
      "C:\\Users\\Shalini\\Anaconda3\\lib\\site-packages\\h5py\\__init__.py:36: FutureWarning: Conversion of the second argument of issubdtype from `float` to `np.floating` is deprecated. In future, it will be treated as `np.float64 == np.dtype(float).type`.\n",
      "  from ._conv import register_converters as _register_converters\n",
      "Using TensorFlow backend.\n"
     ]
    }
   ],
   "source": [
    "#Building the RNN\n",
    "\n",
    "#importing the keras library and pakages\n",
    "from keras.models import Sequential\n",
    "from keras.layers import Dropout\n",
    "from keras.layers import Dense\n",
    "from keras.layers import LSTM\n",
    "\n",
    "#initialising the rnn\n",
    "regressor = Sequential() \n",
    "\n",
    "# Adding the first LSTM layer and some Dropout regularisation\n",
    "regressor.add(LSTM(units = 20, return_sequences = True, input_shape = (x_train.shape[1],x_train.shape[2])))\n",
    "regressor.add(Dropout(0.2))\n",
    "\n",
    "# Adding a second LSTM layer and some Dropout regularisation\n",
    "regressor.add(LSTM(units = 20, return_sequences = True))\n",
    "regressor.add(Dropout(0.2))\n",
    "\n",
    "# Adding a third LSTM layer and some Dropout regularisation\n",
    "regressor.add(LSTM(units = 20))\n",
    "regressor.add(Dropout(0.2))\n",
    "\n",
    "# Adding the output layer\n",
    "regressor.add(Dense(units = 1))\n",
    "\n",
    "# Compiling the RNN\n",
    "regressor.compile(optimizer = 'adam', loss = 'mean_squared_error')"
   ]
  },
  {
   "cell_type": "code",
   "execution_count": 9,
   "metadata": {},
   "outputs": [
    {
     "name": "stdout",
     "output_type": "stream",
     "text": [
      "Epoch 1/125\n",
      "20/20 [==============================] - 5s 243ms/step - loss: 0.1437\n",
      "Epoch 2/125\n",
      "20/20 [==============================] - 0s 2ms/step - loss: 0.1355\n",
      "Epoch 3/125\n",
      "20/20 [==============================] - 0s 2ms/step - loss: 0.1276\n",
      "Epoch 4/125\n",
      "20/20 [==============================] - 0s 1ms/step - loss: 0.1175\n",
      "Epoch 5/125\n",
      "20/20 [==============================] - 0s 4ms/step - loss: 0.1156\n",
      "Epoch 6/125\n",
      "20/20 [==============================] - 0s 1ms/step - loss: 0.1074\n",
      "Epoch 7/125\n",
      "20/20 [==============================] - 0s 832us/step - loss: 0.0975\n",
      "Epoch 8/125\n",
      "20/20 [==============================] - 0s 909us/step - loss: 0.0882\n",
      "Epoch 9/125\n",
      "20/20 [==============================] - 0s 1ms/step - loss: 0.0793\n",
      "Epoch 10/125\n",
      "20/20 [==============================] - 0s 1ms/step - loss: 0.0805\n",
      "Epoch 11/125\n",
      "20/20 [==============================] - 0s 1ms/step - loss: 0.0727\n",
      "Epoch 12/125\n",
      "20/20 [==============================] - 0s 860us/step - loss: 0.0702\n",
      "Epoch 13/125\n",
      "20/20 [==============================] - 0s 2ms/step - loss: 0.0604\n",
      "Epoch 14/125\n",
      "20/20 [==============================] - 0s 1ms/step - loss: 0.0549\n",
      "Epoch 15/125\n",
      "20/20 [==============================] - 0s 1ms/step - loss: 0.0521\n",
      "Epoch 16/125\n",
      "20/20 [==============================] - 0s 1ms/step - loss: 0.0450\n",
      "Epoch 17/125\n",
      "20/20 [==============================] - 0s 1ms/step - loss: 0.0354\n",
      "Epoch 18/125\n",
      "20/20 [==============================] - 0s 2ms/step - loss: 0.0338\n",
      "Epoch 19/125\n",
      "20/20 [==============================] - 0s 1ms/step - loss: 0.0297\n",
      "Epoch 20/125\n",
      "20/20 [==============================] - 0s 1ms/step - loss: 0.0225\n",
      "Epoch 21/125\n",
      "20/20 [==============================] - 0s 1ms/step - loss: 0.0244\n",
      "Epoch 22/125\n",
      "20/20 [==============================] - 0s 1ms/step - loss: 0.0208\n",
      "Epoch 23/125\n",
      "20/20 [==============================] - 0s 1ms/step - loss: 0.0254\n",
      "Epoch 24/125\n",
      "20/20 [==============================] - 0s 991us/step - loss: 0.0190\n",
      "Epoch 25/125\n",
      "20/20 [==============================] - 0s 947us/step - loss: 0.0235\n",
      "Epoch 26/125\n",
      "20/20 [==============================] - 0s 865us/step - loss: 0.0245\n",
      "Epoch 27/125\n",
      "20/20 [==============================] - 0s 1ms/step - loss: 0.0343\n",
      "Epoch 28/125\n",
      "20/20 [==============================] - 0s 718us/step - loss: 0.0235\n",
      "Epoch 29/125\n",
      "20/20 [==============================] - 0s 1ms/step - loss: 0.0338\n",
      "Epoch 30/125\n",
      "20/20 [==============================] - 0s 834us/step - loss: 0.0350\n",
      "Epoch 31/125\n",
      "20/20 [==============================] - 0s 653us/step - loss: 0.0375\n",
      "Epoch 32/125\n",
      "20/20 [==============================] - 0s 705us/step - loss: 0.0247\n",
      "Epoch 33/125\n",
      "20/20 [==============================] - 0s 966us/step - loss: 0.0290\n",
      "Epoch 34/125\n",
      "20/20 [==============================] - 0s 2ms/step - loss: 0.0227\n",
      "Epoch 35/125\n",
      "20/20 [==============================] - 0s 756us/step - loss: 0.0283\n",
      "Epoch 36/125\n",
      "20/20 [==============================] - 0s 1ms/step - loss: 0.0266\n",
      "Epoch 37/125\n",
      "20/20 [==============================] - 0s 561us/step - loss: 0.0216\n",
      "Epoch 38/125\n",
      "20/20 [==============================] - 0s 807us/step - loss: 0.0257\n",
      "Epoch 39/125\n",
      "20/20 [==============================] - 0s 2ms/step - loss: 0.0268\n",
      "Epoch 40/125\n",
      "20/20 [==============================] - 0s 737us/step - loss: 0.0211\n",
      "Epoch 41/125\n",
      "20/20 [==============================] - 0s 932us/step - loss: 0.0172\n",
      "Epoch 42/125\n",
      "20/20 [==============================] - 0s 872us/step - loss: 0.0190\n",
      "Epoch 43/125\n",
      "20/20 [==============================] - 0s 1ms/step - loss: 0.0200\n",
      "Epoch 44/125\n",
      "20/20 [==============================] - 0s 576us/step - loss: 0.0263\n",
      "Epoch 45/125\n",
      "20/20 [==============================] - 0s 1ms/step - loss: 0.0223\n",
      "Epoch 46/125\n",
      "20/20 [==============================] - 0s 1ms/step - loss: 0.0182\n",
      "Epoch 47/125\n",
      "20/20 [==============================] - 0s 838us/step - loss: 0.0284\n",
      "Epoch 48/125\n",
      "20/20 [==============================] - 0s 915us/step - loss: 0.0228\n",
      "Epoch 49/125\n",
      "20/20 [==============================] - 0s 789us/step - loss: 0.0170\n",
      "Epoch 50/125\n",
      "20/20 [==============================] - 0s 903us/step - loss: 0.0146\n",
      "Epoch 51/125\n",
      "20/20 [==============================] - 0s 494us/step - loss: 0.0196\n",
      "Epoch 52/125\n",
      "20/20 [==============================] - 0s 1ms/step - loss: 0.0173\n",
      "Epoch 53/125\n",
      "20/20 [==============================] - 0s 773us/step - loss: 0.0167\n",
      "Epoch 54/125\n",
      "20/20 [==============================] - 0s 1ms/step - loss: 0.0262\n",
      "Epoch 55/125\n",
      "20/20 [==============================] - 0s 321us/step - loss: 0.0259\n",
      "Epoch 56/125\n",
      "20/20 [==============================] - 0s 1ms/step - loss: 0.0216\n",
      "Epoch 57/125\n",
      "20/20 [==============================] - 0s 818us/step - loss: 0.0200\n",
      "Epoch 58/125\n",
      "20/20 [==============================] - 0s 736us/step - loss: 0.0170\n",
      "Epoch 59/125\n",
      "20/20 [==============================] - 0s 1ms/step - loss: 0.0204\n",
      "Epoch 60/125\n",
      "20/20 [==============================] - 0s 1ms/step - loss: 0.0231\n",
      "Epoch 61/125\n",
      "20/20 [==============================] - 0s 781us/step - loss: 0.0188\n",
      "Epoch 62/125\n",
      "20/20 [==============================] - 0s 903us/step - loss: 0.0190\n",
      "Epoch 63/125\n",
      "20/20 [==============================] - 0s 51us/step - loss: 0.0159\n",
      "Epoch 64/125\n",
      "20/20 [==============================] - 0s 2ms/step - loss: 0.0194\n",
      "Epoch 65/125\n",
      "20/20 [==============================] - 0s 567us/step - loss: 0.0216\n",
      "Epoch 66/125\n",
      "20/20 [==============================] - 0s 1ms/step - loss: 0.0201\n",
      "Epoch 67/125\n",
      "20/20 [==============================] - 0s 724us/step - loss: 0.0209\n",
      "Epoch 68/125\n",
      "20/20 [==============================] - 0s 961us/step - loss: 0.0174\n",
      "Epoch 69/125\n",
      "20/20 [==============================] - 0s 949us/step - loss: 0.0238\n",
      "Epoch 70/125\n",
      "20/20 [==============================] - 0s 444us/step - loss: 0.0172\n",
      "Epoch 71/125\n",
      "20/20 [==============================] - 0s 1ms/step - loss: 0.0213\n",
      "Epoch 72/125\n",
      "20/20 [==============================] - 0s 568us/step - loss: 0.0200\n",
      "Epoch 73/125\n",
      "20/20 [==============================] - 0s 586us/step - loss: 0.0200\n",
      "Epoch 74/125\n",
      "20/20 [==============================] - 0s 973us/step - loss: 0.0175\n",
      "Epoch 75/125\n",
      "20/20 [==============================] - 0s 580us/step - loss: 0.0240\n",
      "Epoch 76/125\n",
      "20/20 [==============================] - 0s 615us/step - loss: 0.0150\n",
      "Epoch 77/125\n",
      "20/20 [==============================] - 0s 971us/step - loss: 0.0231\n",
      "Epoch 78/125\n",
      "20/20 [==============================] - 0s 478us/step - loss: 0.0194\n",
      "Epoch 79/125\n",
      "20/20 [==============================] - 0s 882us/step - loss: 0.0143\n",
      "Epoch 80/125\n",
      "20/20 [==============================] - 0s 532us/step - loss: 0.0185\n",
      "Epoch 81/125\n",
      "20/20 [==============================] - 0s 341us/step - loss: 0.0195\n",
      "Epoch 82/125\n",
      "20/20 [==============================] - 0s 629us/step - loss: 0.0231\n",
      "Epoch 83/125\n",
      "20/20 [==============================] - 0s 529us/step - loss: 0.0164\n",
      "Epoch 84/125\n",
      "20/20 [==============================] - 0s 591us/step - loss: 0.0191\n",
      "Epoch 85/125\n",
      "20/20 [==============================] - 0s 580us/step - loss: 0.0182\n",
      "Epoch 86/125\n",
      "20/20 [==============================] - 0s 631us/step - loss: 0.0212\n",
      "Epoch 87/125\n",
      "20/20 [==============================] - 0s 1ms/step - loss: 0.0151\n",
      "Epoch 88/125\n",
      "20/20 [==============================] - 0s 628us/step - loss: 0.0229\n",
      "Epoch 89/125\n",
      "20/20 [==============================] - 0s 886us/step - loss: 0.0223\n",
      "Epoch 90/125\n",
      "20/20 [==============================] - 0s 534us/step - loss: 0.0204\n",
      "Epoch 91/125\n",
      "20/20 [==============================] - 0s 150us/step - loss: 0.0195\n",
      "Epoch 92/125\n",
      "20/20 [==============================] - 0s 1ms/step - loss: 0.0137\n",
      "Epoch 93/125\n",
      "20/20 [==============================] - 0s 900us/step - loss: 0.0192\n",
      "Epoch 94/125\n",
      "20/20 [==============================] - 0s 634us/step - loss: 0.0171\n",
      "Epoch 95/125\n",
      "20/20 [==============================] - 0s 1ms/step - loss: 0.0154\n",
      "Epoch 96/125\n",
      "20/20 [==============================] - 0s 723us/step - loss: 0.0144\n",
      "Epoch 97/125\n",
      "20/20 [==============================] - 0s 513us/step - loss: 0.0125\n",
      "Epoch 98/125\n",
      "20/20 [==============================] - 0s 2ms/step - loss: 0.0179\n",
      "Epoch 99/125\n",
      "20/20 [==============================] - 0s 1ms/step - loss: 0.0153\n",
      "Epoch 100/125\n",
      "20/20 [==============================] - 0s 707us/step - loss: 0.0190\n"
     ]
    },
    {
     "name": "stdout",
     "output_type": "stream",
     "text": [
      "Epoch 101/125\n",
      "20/20 [==============================] - 0s 780us/step - loss: 0.0214\n",
      "Epoch 102/125\n",
      "20/20 [==============================] - 0s 1ms/step - loss: 0.0133\n",
      "Epoch 103/125\n",
      "20/20 [==============================] - 0s 646us/step - loss: 0.0170\n",
      "Epoch 104/125\n",
      "20/20 [==============================] - 0s 1ms/step - loss: 0.0186\n",
      "Epoch 105/125\n",
      "20/20 [==============================] - 0s 884us/step - loss: 0.0159\n",
      "Epoch 106/125\n",
      "20/20 [==============================] - 0s 836us/step - loss: 0.0140\n",
      "Epoch 107/125\n",
      "20/20 [==============================] - 0s 1ms/step - loss: 0.0178\n",
      "Epoch 108/125\n",
      "20/20 [==============================] - 0s 987us/step - loss: 0.0182\n",
      "Epoch 109/125\n",
      "20/20 [==============================] - 0s 1ms/step - loss: 0.0179\n",
      "Epoch 110/125\n",
      "20/20 [==============================] - 0s 1ms/step - loss: 0.0171\n",
      "Epoch 111/125\n",
      "20/20 [==============================] - 0s 838us/step - loss: 0.0155\n",
      "Epoch 112/125\n",
      "20/20 [==============================] - 0s 801us/step - loss: 0.0170\n",
      "Epoch 113/125\n",
      "20/20 [==============================] - 0s 888us/step - loss: 0.0142\n",
      "Epoch 114/125\n",
      "20/20 [==============================] - 0s 1ms/step - loss: 0.0107\n",
      "Epoch 115/125\n",
      "20/20 [==============================] - 0s 454us/step - loss: 0.0132\n",
      "Epoch 116/125\n",
      "20/20 [==============================] - 0s 1ms/step - loss: 0.0157\n",
      "Epoch 117/125\n",
      "20/20 [==============================] - 0s 1ms/step - loss: 0.0189\n",
      "Epoch 118/125\n",
      "20/20 [==============================] - 0s 707us/step - loss: 0.0205\n",
      "Epoch 119/125\n",
      "20/20 [==============================] - 0s 934us/step - loss: 0.0160\n",
      "Epoch 120/125\n",
      "20/20 [==============================] - 0s 922us/step - loss: 0.0182\n",
      "Epoch 121/125\n",
      "20/20 [==============================] - 0s 637us/step - loss: 0.0169\n",
      "Epoch 122/125\n",
      "20/20 [==============================] - 0s 766us/step - loss: 0.0157\n",
      "Epoch 123/125\n",
      "20/20 [==============================] - 0s 2ms/step - loss: 0.0131\n",
      "Epoch 124/125\n",
      "20/20 [==============================] - 0s 2ms/step - loss: 0.0167\n",
      "Epoch 125/125\n",
      "20/20 [==============================] - 0s 935us/step - loss: 0.0119\n"
     ]
    },
    {
     "data": {
      "text/plain": [
       "<keras.callbacks.History at 0x1aa899dccf8>"
      ]
     },
     "execution_count": 9,
     "metadata": {},
     "output_type": "execute_result"
    }
   ],
   "source": [
    "# Fitting the RNN to the Training set\n",
    "regressor.fit(x_train, y_train, epochs = 125, batch_size = 32)\n"
   ]
  },
  {
   "cell_type": "code",
   "execution_count": 30,
   "metadata": {},
   "outputs": [],
   "source": [
    "inputs = dataset_scaled[20:31,0:4]"
   ]
  },
  {
   "cell_type": "code",
   "execution_count": 31,
   "metadata": {},
   "outputs": [],
   "source": [
    "x_test = []\n",
    "for j in range(26, 31):\n",
    "    x_test.append(dataset_scaled[j-5:j, 0:4])"
   ]
  },
  {
   "cell_type": "code",
   "execution_count": 32,
   "metadata": {},
   "outputs": [],
   "source": [
    "#x_test[1]\n",
    "#x_test = x_test.reshape(1,-1)"
   ]
  },
  {
   "cell_type": "code",
   "execution_count": 33,
   "metadata": {},
   "outputs": [],
   "source": [
    "x_test = np.array(x_test)"
   ]
  },
  {
   "cell_type": "code",
   "execution_count": 44,
   "metadata": {},
   "outputs": [],
   "source": [
    "x_test = np.reshape(x_test, (x_test.shape[0], x_test.shape[1], x_test.shape[2]))\n"
   ]
  },
  {
   "cell_type": "code",
   "execution_count": 45,
   "metadata": {},
   "outputs": [
    {
     "data": {
      "text/plain": [
       "5"
      ]
     },
     "execution_count": 45,
     "metadata": {},
     "output_type": "execute_result"
    }
   ],
   "source": [
    "x_test.shape[1]"
   ]
  },
  {
   "cell_type": "code",
   "execution_count": 46,
   "metadata": {},
   "outputs": [
    {
     "ename": "ValueError",
     "evalue": "Expected 2D array, got 1D array instead:\narray=[].\nReshape your data either using array.reshape(-1, 1) if your data has a single feature or array.reshape(1, -1) if it contains a single sample.",
     "output_type": "error",
     "traceback": [
      "\u001b[1;31m---------------------------------------------------------------------------\u001b[0m",
      "\u001b[1;31mValueError\u001b[0m                                Traceback (most recent call last)",
      "\u001b[1;32m<ipython-input-46-c79d221d879a>\u001b[0m in \u001b[0;36m<module>\u001b[1;34m()\u001b[0m\n\u001b[0;32m      1\u001b[0m \u001b[0mpredicted_stock_price\u001b[0m \u001b[1;33m=\u001b[0m \u001b[0mregressor\u001b[0m\u001b[1;33m.\u001b[0m\u001b[0mpredict\u001b[0m\u001b[1;33m(\u001b[0m\u001b[0mx_test\u001b[0m\u001b[1;33m)\u001b[0m\u001b[1;33m\u001b[0m\u001b[0m\n\u001b[1;32m----> 2\u001b[1;33m \u001b[0mpredicted_stock_price\u001b[0m \u001b[1;33m=\u001b[0m \u001b[0msc\u001b[0m\u001b[1;33m.\u001b[0m\u001b[0minverse_transform\u001b[0m\u001b[1;33m(\u001b[0m\u001b[0mpredicted_stock_price\u001b[0m\u001b[1;33m)\u001b[0m\u001b[1;33m\u001b[0m\u001b[0m\n\u001b[0m\u001b[0;32m      3\u001b[0m \u001b[0mprint\u001b[0m\u001b[1;33m(\u001b[0m\u001b[0mpredicted_stock_price\u001b[0m\u001b[1;33m)\u001b[0m\u001b[1;33m\u001b[0m\u001b[0m\n",
      "\u001b[1;32m~\\Anaconda3\\lib\\site-packages\\sklearn\\preprocessing\\data.py\u001b[0m in \u001b[0;36minverse_transform\u001b[1;34m(self, X)\u001b[0m\n\u001b[0;32m    381\u001b[0m         \u001b[0mcheck_is_fitted\u001b[0m\u001b[1;33m(\u001b[0m\u001b[0mself\u001b[0m\u001b[1;33m,\u001b[0m \u001b[1;34m'scale_'\u001b[0m\u001b[1;33m)\u001b[0m\u001b[1;33m\u001b[0m\u001b[0m\n\u001b[0;32m    382\u001b[0m \u001b[1;33m\u001b[0m\u001b[0m\n\u001b[1;32m--> 383\u001b[1;33m         \u001b[0mX\u001b[0m \u001b[1;33m=\u001b[0m \u001b[0mcheck_array\u001b[0m\u001b[1;33m(\u001b[0m\u001b[0mX\u001b[0m\u001b[1;33m,\u001b[0m \u001b[0mcopy\u001b[0m\u001b[1;33m=\u001b[0m\u001b[0mself\u001b[0m\u001b[1;33m.\u001b[0m\u001b[0mcopy\u001b[0m\u001b[1;33m,\u001b[0m \u001b[0mdtype\u001b[0m\u001b[1;33m=\u001b[0m\u001b[0mFLOAT_DTYPES\u001b[0m\u001b[1;33m)\u001b[0m\u001b[1;33m\u001b[0m\u001b[0m\n\u001b[0m\u001b[0;32m    384\u001b[0m \u001b[1;33m\u001b[0m\u001b[0m\n\u001b[0;32m    385\u001b[0m         \u001b[0mX\u001b[0m \u001b[1;33m-=\u001b[0m \u001b[0mself\u001b[0m\u001b[1;33m.\u001b[0m\u001b[0mmin_\u001b[0m\u001b[1;33m\u001b[0m\u001b[0m\n",
      "\u001b[1;32m~\\Anaconda3\\lib\\site-packages\\sklearn\\utils\\validation.py\u001b[0m in \u001b[0;36mcheck_array\u001b[1;34m(array, accept_sparse, dtype, order, copy, force_all_finite, ensure_2d, allow_nd, ensure_min_samples, ensure_min_features, warn_on_dtype, estimator)\u001b[0m\n\u001b[0;32m    439\u001b[0m                     \u001b[1;34m\"Reshape your data either using array.reshape(-1, 1) if \"\u001b[0m\u001b[1;33m\u001b[0m\u001b[0m\n\u001b[0;32m    440\u001b[0m                     \u001b[1;34m\"your data has a single feature or array.reshape(1, -1) \"\u001b[0m\u001b[1;33m\u001b[0m\u001b[0m\n\u001b[1;32m--> 441\u001b[1;33m                     \"if it contains a single sample.\".format(array))\n\u001b[0m\u001b[0;32m    442\u001b[0m             \u001b[0marray\u001b[0m \u001b[1;33m=\u001b[0m \u001b[0mnp\u001b[0m\u001b[1;33m.\u001b[0m\u001b[0matleast_2d\u001b[0m\u001b[1;33m(\u001b[0m\u001b[0marray\u001b[0m\u001b[1;33m)\u001b[0m\u001b[1;33m\u001b[0m\u001b[0m\n\u001b[0;32m    443\u001b[0m             \u001b[1;31m# To ensure that array flags are maintained\u001b[0m\u001b[1;33m\u001b[0m\u001b[1;33m\u001b[0m\u001b[0m\n",
      "\u001b[1;31mValueError\u001b[0m: Expected 2D array, got 1D array instead:\narray=[].\nReshape your data either using array.reshape(-1, 1) if your data has a single feature or array.reshape(1, -1) if it contains a single sample."
     ]
    }
   ],
   "source": [
    "predicted_stock_price = regressor.predict(x_test)\n",
    "predicted_stock_price = sc.inverse_transform(predicted_stock_price)\n",
    "print(predicted_stock_price)"
   ]
  },
  {
   "cell_type": "code",
   "execution_count": null,
   "metadata": {},
   "outputs": [],
   "source": []
  }
 ],
 "metadata": {
  "kernelspec": {
   "display_name": "Python 3",
   "language": "python",
   "name": "python3"
  },
  "language_info": {
   "codemirror_mode": {
    "name": "ipython",
    "version": 3
   },
   "file_extension": ".py",
   "mimetype": "text/x-python",
   "name": "python",
   "nbconvert_exporter": "python",
   "pygments_lexer": "ipython3",
   "version": "3.6.1"
  }
 },
 "nbformat": 4,
 "nbformat_minor": 2
}
