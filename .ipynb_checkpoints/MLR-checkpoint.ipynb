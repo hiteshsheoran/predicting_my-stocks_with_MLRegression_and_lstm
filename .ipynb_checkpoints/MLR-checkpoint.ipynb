{
 "cells": [
  {
   "cell_type": "code",
   "execution_count": 1,
   "metadata": {},
   "outputs": [],
   "source": [
    "#importing the libraries\n",
    "import numpy as np\n",
    "import matplotlib.pyplot as plt\n",
    "import pandas as pd"
   ]
  },
  {
   "cell_type": "code",
   "execution_count": 2,
   "metadata": {},
   "outputs": [],
   "source": [
    "#importing the data\n",
    "dataset_tv = pd.read_csv('2018-07-12_161320_mentions_by_media_type.csv')\n",
    "dataset_radio = pd.read_csv('2018-07-12_161430_mentions_by_media_type.csv')\n",
    "dataset_online_news = pd.read_csv('ONLINE-NEWS.csv')\n",
    "dataset_stocks = pd.read_csv('MSFT.csv')"
   ]
  },
  {
   "cell_type": "code",
   "execution_count": 3,
   "metadata": {},
   "outputs": [],
   "source": [
    "#removing excess information\n",
    "dataset_radio_new = dataset_radio.iloc[0:31,2:3] \n",
    "dataset_onlinenews_new = dataset_online_news.iloc[:,2:3]\n",
    "dataset_tv_new = dataset_tv.iloc[0:31,2:3]\n",
    "dataset_stocks_new = dataset_stocks.iloc[0:31,1:2]"
   ]
  },
  {
   "cell_type": "code",
   "execution_count": 4,
   "metadata": {},
   "outputs": [],
   "source": [
    "#concatinating the total data together\n",
    "dataset_total = pd.concat((dataset_tv_new['MENTIONS'], dataset_radio_new['MENTIONS'], dataset_online_news['MENTIONS'], dataset_stocks_new['Open']), axis = 1)"
   ]
  },
  {
   "cell_type": "code",
   "execution_count": 5,
   "metadata": {},
   "outputs": [
    {
     "data": {
      "text/html": [
       "<div>\n",
       "<style scoped>\n",
       "    .dataframe tbody tr th:only-of-type {\n",
       "        vertical-align: middle;\n",
       "    }\n",
       "\n",
       "    .dataframe tbody tr th {\n",
       "        vertical-align: top;\n",
       "    }\n",
       "\n",
       "    .dataframe thead th {\n",
       "        text-align: right;\n",
       "    }\n",
       "</style>\n",
       "<table border=\"1\" class=\"dataframe\">\n",
       "  <thead>\n",
       "    <tr style=\"text-align: right;\">\n",
       "      <th></th>\n",
       "      <th>MENTIONS</th>\n",
       "      <th>MENTIONS</th>\n",
       "      <th>MENTIONS</th>\n",
       "      <th>Open</th>\n",
       "    </tr>\n",
       "  </thead>\n",
       "  <tbody>\n",
       "    <tr>\n",
       "      <th>0</th>\n",
       "      <td>287</td>\n",
       "      <td>336</td>\n",
       "      <td>13224</td>\n",
       "      <td>101.099998</td>\n",
       "    </tr>\n",
       "    <tr>\n",
       "      <th>1</th>\n",
       "      <td>386</td>\n",
       "      <td>290</td>\n",
       "      <td>12728</td>\n",
       "      <td>101.720001</td>\n",
       "    </tr>\n",
       "    <tr>\n",
       "      <th>2</th>\n",
       "      <td>277</td>\n",
       "      <td>566</td>\n",
       "      <td>13142</td>\n",
       "      <td>101.650002</td>\n",
       "    </tr>\n",
       "    <tr>\n",
       "      <th>3</th>\n",
       "      <td>281</td>\n",
       "      <td>437</td>\n",
       "      <td>9882</td>\n",
       "      <td>101.510002</td>\n",
       "    </tr>\n",
       "    <tr>\n",
       "      <th>4</th>\n",
       "      <td>567</td>\n",
       "      <td>620</td>\n",
       "      <td>4071</td>\n",
       "      <td>100.760000</td>\n",
       "    </tr>\n",
       "  </tbody>\n",
       "</table>\n",
       "</div>"
      ],
      "text/plain": [
       "   MENTIONS  MENTIONS  MENTIONS        Open\n",
       "0       287       336     13224  101.099998\n",
       "1       386       290     12728  101.720001\n",
       "2       277       566     13142  101.650002\n",
       "3       281       437      9882  101.510002\n",
       "4       567       620      4071  100.760000"
      ]
     },
     "execution_count": 5,
     "metadata": {},
     "output_type": "execute_result"
    }
   ],
   "source": [
    "dataset_total.head()"
   ]
  },
  {
   "cell_type": "code",
   "execution_count": 8,
   "metadata": {},
   "outputs": [],
   "source": [
    "#feature scaling (Normalisation as it is recommended whenever we are using sigmoid as activation function)\n",
    "from sklearn.preprocessing import MinMaxScaler\n",
    "sc = MinMaxScaler(feature_range = (0, 1))\n",
    "training_dataset_scaled = sc.fit_transform(dataset_total)"
   ]
  },
  {
   "cell_type": "code",
   "execution_count": 12,
   "metadata": {},
   "outputs": [
    {
     "data": {
      "text/plain": [
       "array([[0.37263158, 0.34012539, 0.95865298, 0.69016716],\n",
       "       [0.58105263, 0.26802508, 0.90923583, 0.80519555],\n",
       "       [0.35157895, 0.70062696, 0.95048321, 0.79220872],\n",
       "       [0.36      , 0.4984326 , 0.62568497, 0.76623469],\n",
       "       [0.96210526, 0.78526646, 0.04672711, 0.62708776],\n",
       "       [0.12421053, 1.        , 0.02470858, 0.62708776],\n",
       "       [0.20631579, 0.28840125, 0.66005779, 0.48794156],\n",
       "       [0.60631579, 0.22727273, 0.79127229, 0.42115121],\n",
       "       [0.60631579, 0.41222571, 0.85852346, 0.74026085],\n",
       "       [0.18947368, 0.17868339, 0.86709176, 0.87198609],\n",
       "       [0.20210526, 0.12068966, 0.54189499, 0.56215343],\n",
       "       [1.        , 0.17241379, 0.06605559, 0.52319165],\n",
       "       [0.48210526, 0.44827586, 0.14785294, 0.52319165],\n",
       "       [0.27578947, 0.12539185, 0.82295507, 0.4860859 ],\n",
       "       [0.13052632, 0.29310345, 0.79914317, 0.26716197],\n",
       "       [0.07368421, 0.21159875, 0.70628674, 0.40816419],\n",
       "       [0.02526316, 0.26645768, 0.65776626, 0.        ],\n",
       "       [0.00842105, 0.48902821, 0.56650394, 0.28757013],\n",
       "       [0.03157895, 0.35893417, 0.03596692, 0.20964805],\n",
       "       [0.03578947, 0.41065831, 0.02470858, 0.20964805],\n",
       "       [0.08842105, 0.31034483, 0.5124041 , 0.13358089],\n",
       "       [0.15157895, 0.15047022, 0.60675501, 0.57514026],\n",
       "       [0.17684211, 0.        , 0.35219687, 0.48423061],\n",
       "       [0.        , 0.14263323, 0.48998705, 0.39332152],\n",
       "       [0.15368421, 0.3322884 , 0.4485404 , 0.46567755],\n",
       "       [0.46315789, 0.62695925, 0.04483411, 0.62894304],\n",
       "       [0.56421053, 0.35736677, 0.        , 0.62894304],\n",
       "       [0.16842105, 0.27586207, 0.63365547, 0.79220872],\n",
       "       [0.66315789, 0.51253918, 1.        , 0.85714341],\n",
       "       [0.26315789, 0.14576803, 0.74245292, 0.69944434],\n",
       "       [0.09473684, 0.02351097, 0.4132709 , 1.        ]])"
      ]
     },
     "execution_count": 12,
     "metadata": {},
     "output_type": "execute_result"
    }
   ],
   "source": [
    "training_dataset_scaled\n"
   ]
  },
  {
   "cell_type": "code",
   "execution_count": 14,
   "metadata": {},
   "outputs": [
    {
     "data": {
      "text/plain": [
       "array([[0.35157895, 0.70062696, 0.95048321, 0.79220872],\n",
       "       [0.36      , 0.4984326 , 0.62568497, 0.76623469],\n",
       "       [0.96210526, 0.78526646, 0.04672711, 0.62708776],\n",
       "       [0.12421053, 1.        , 0.02470858, 0.62708776],\n",
       "       [0.20631579, 0.28840125, 0.66005779, 0.48794156],\n",
       "       [0.60631579, 0.22727273, 0.79127229, 0.42115121]])"
      ]
     },
     "execution_count": 14,
     "metadata": {},
     "output_type": "execute_result"
    }
   ],
   "source": [
    "# Creating a data structure with 6 timesteps and 1 output\n",
    "x_train = []\n",
    "y_train = []\n",
    "for i in range(6, 30):\n",
    "    x_train.append(training_dataset_scaled[i-6:i, :])\n",
    "    y_train.append(training_dataset_scaled[i, 3:4])\n",
    "x_train, y_train = np.array(x_train), np.array(y_train)\n",
    "x_train[2]"
   ]
  },
  {
   "cell_type": "code",
   "execution_count": null,
   "metadata": {},
   "outputs": [],
   "source": []
  },
  {
   "cell_type": "raw",
   "metadata": {},
   "source": [
    "#reshaping\n",
    "x_train = np.reshape(x_train, (x_train.shape[0], x_train.shape[1], 4))"
   ]
  }
 ],
 "metadata": {
  "kernelspec": {
   "display_name": "Python 3",
   "language": "python",
   "name": "python3"
  },
  "language_info": {
   "codemirror_mode": {
    "name": "ipython",
    "version": 3
   },
   "file_extension": ".py",
   "mimetype": "text/x-python",
   "name": "python",
   "nbconvert_exporter": "python",
   "pygments_lexer": "ipython3",
   "version": "3.6.1"
  }
 },
 "nbformat": 4,
 "nbformat_minor": 2
}
