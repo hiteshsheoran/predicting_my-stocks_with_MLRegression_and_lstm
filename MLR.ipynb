{
 "cells": [
  {
   "cell_type": "code",
   "execution_count": 1,
   "metadata": {},
   "outputs": [],
   "source": [
    "#importing the libraries\n",
    "import numpy as np\n",
    "import matplotlib.pyplot as plt\n",
    "import pandas as pd"
   ]
  },
  {
   "cell_type": "code",
   "execution_count": 2,
   "metadata": {},
   "outputs": [],
   "source": [
    "#importing the data\n",
    "dataset_tv = pd.read_csv('2018-07-12_161320_mentions_by_media_type.csv')\n",
    "dataset_radio = pd.read_csv('2018-07-12_161430_mentions_by_media_type.csv')\n",
    "dataset_online_news = pd.read_csv('ONLINE-NEWS.csv')\n",
    "dataset_stocks = pd.read_csv('MSFT.csv')"
   ]
  },
  {
   "cell_type": "code",
   "execution_count": 3,
   "metadata": {},
   "outputs": [],
   "source": [
    "#removing excess information\n",
    "dataset_radio_new = dataset_radio.iloc[0:31,2:3] \n",
    "dataset_onlinenews_new = dataset_online_news.iloc[:,2:3]\n",
    "dataset_tv_new = dataset_tv.iloc[0:31,2:3]\n",
    "dataset_stocks_new = dataset_stocks.iloc[0:31,1:2]"
   ]
  },
  {
   "cell_type": "code",
   "execution_count": 4,
   "metadata": {},
   "outputs": [],
   "source": [
    "#concatinating the total data together\n",
    "dataset_total = pd.concat((dataset_tv_new['MENTIONS'], dataset_radio_new['MENTIONS'], dataset_online_news['MENTIONS'], dataset_stocks_new['Open']), axis = 1)"
   ]
  },
  {
   "cell_type": "code",
   "execution_count": 5,
   "metadata": {},
   "outputs": [],
   "source": [
    "#feature scaling \n",
    "from sklearn.preprocessing import MinMaxScaler\n",
    "sc = MinMaxScaler(feature_range = (0, 1))\n",
    "training_dataset_scaled = sc.fit_transform(dataset_total)"
   ]
  },
  {
   "cell_type": "code",
   "execution_count": 8,
   "metadata": {},
   "outputs": [
    {
     "data": {
      "text/plain": [
       "4"
      ]
     },
     "execution_count": 8,
     "metadata": {},
     "output_type": "execute_result"
    }
   ],
   "source": [
    "# Creating a data structure with 6 timesteps and 1 output\n",
    "x_train = []\n",
    "y_train = []\n",
    "for i in range(6, 30):\n",
    "    x_train.append(training_dataset_scaled[i-6:i,0:4])\n",
    "    y_train.append(training_dataset_scaled[i,3])\n",
    "x_train, y_train = np.array(x_train), np.array(y_train)\n",
    "x_train[22]\n",
    "x_train.shape[2]"
   ]
  },
  {
   "cell_type": "code",
   "execution_count": 7,
   "metadata": {},
   "outputs": [],
   "source": [
    "## reshaping\n",
    "x_train = np.reshape(x_train, (x_train.shape[0], x_train.shape[1],x_train.shape[2]))"
   ]
  },
  {
   "cell_type": "code",
   "execution_count": 8,
   "metadata": {},
   "outputs": [
    {
     "name": "stderr",
     "output_type": "stream",
     "text": [
      "C:\\Users\\Shalini\\Anaconda3\\lib\\site-packages\\h5py\\__init__.py:36: FutureWarning: Conversion of the second argument of issubdtype from `float` to `np.floating` is deprecated. In future, it will be treated as `np.float64 == np.dtype(float).type`.\n",
      "  from ._conv import register_converters as _register_converters\n",
      "Using TensorFlow backend.\n"
     ]
    }
   ],
   "source": [
    "#Building the RNN\n",
    "\n",
    "#importing the keras library and pakages\n",
    "from keras.models import Sequential\n",
    "from keras.layers import Dropout\n",
    "from keras.layers import Dense\n",
    "from keras.layers import LSTM"
   ]
  },
  {
   "cell_type": "code",
   "execution_count": 9,
   "metadata": {},
   "outputs": [],
   "source": [
    "#initialising the rnn\n",
    "regressor = Sequential() "
   ]
  },
  {
   "cell_type": "code",
   "execution_count": 10,
   "metadata": {},
   "outputs": [],
   "source": [
    "# Adding the first LSTM layer and some Dropout regularisation\n",
    "regressor.add(LSTM(units = 20, return_sequences = True, input_shape = (x_train.shape[1],x_train.shape[2])))\n",
    "regressor.add(Dropout(0.2))\n",
    "\n",
    "# Adding a second LSTM layer and some Dropout regularisation\n",
    "regressor.add(LSTM(units = 20, return_sequences = True))\n",
    "regressor.add(Dropout(0.2))\n",
    "\n",
    "# Adding a third LSTM layer and some Dropout regularisation\n",
    "regressor.add(LSTM(units = 20))\n",
    "regressor.add(Dropout(0.2))\n",
    "\n",
    "# Adding the output layer\n",
    "regressor.add(Dense(units = 1))"
   ]
  },
  {
   "cell_type": "code",
   "execution_count": 11,
   "metadata": {},
   "outputs": [],
   "source": [
    "# Compiling the RNN\n",
    "regressor.compile(optimizer = 'adam', loss = 'mean_squared_error')"
   ]
  },
  {
   "cell_type": "code",
   "execution_count": 12,
   "metadata": {},
   "outputs": [
    {
     "name": "stdout",
     "output_type": "stream",
     "text": [
      "Epoch 1/100\n",
      "24/24 [==============================] - 3s 134ms/step - loss: 0.1879\n",
      "Epoch 2/100\n",
      "24/24 [==============================] - 0s 530us/step - loss: 0.1762\n",
      "Epoch 3/100\n",
      "24/24 [==============================] - 0s 1ms/step - loss: 0.1657\n",
      "Epoch 4/100\n",
      "24/24 [==============================] - 0s 965us/step - loss: 0.1575\n",
      "Epoch 5/100\n",
      "24/24 [==============================] - 0s 922us/step - loss: 0.1512\n",
      "Epoch 6/100\n",
      "24/24 [==============================] - 0s 378us/step - loss: 0.1425\n",
      "Epoch 7/100\n",
      "24/24 [==============================] - 0s 2ms/step - loss: 0.1339\n",
      "Epoch 8/100\n",
      "24/24 [==============================] - 0s 1ms/step - loss: 0.1266\n",
      "Epoch 9/100\n",
      "24/24 [==============================] - 0s 901us/step - loss: 0.1148\n",
      "Epoch 10/100\n",
      "24/24 [==============================] - 0s 1ms/step - loss: 0.1088\n",
      "Epoch 11/100\n",
      "24/24 [==============================] - 0s 527us/step - loss: 0.0986\n",
      "Epoch 12/100\n",
      "24/24 [==============================] - 0s 1ms/step - loss: 0.0935\n",
      "Epoch 13/100\n",
      "24/24 [==============================] - 0s 1ms/step - loss: 0.0895\n",
      "Epoch 14/100\n",
      "24/24 [==============================] - 0s 1ms/step - loss: 0.0803\n",
      "Epoch 15/100\n",
      "24/24 [==============================] - 0s 949us/step - loss: 0.0632\n",
      "Epoch 16/100\n",
      "24/24 [==============================] - 0s 1ms/step - loss: 0.0634\n",
      "Epoch 17/100\n",
      "24/24 [==============================] - 0s 2ms/step - loss: 0.0485\n",
      "Epoch 18/100\n",
      "24/24 [==============================] - 0s 2ms/step - loss: 0.0499\n",
      "Epoch 19/100\n",
      "24/24 [==============================] - 0s 911us/step - loss: 0.0399\n",
      "Epoch 20/100\n",
      "24/24 [==============================] - 0s 1ms/step - loss: 0.0528\n",
      "Epoch 21/100\n",
      "24/24 [==============================] - 0s 959us/step - loss: 0.0300\n",
      "Epoch 22/100\n",
      "24/24 [==============================] - 0s 1ms/step - loss: 0.0257\n",
      "Epoch 23/100\n",
      "24/24 [==============================] - 0s 840us/step - loss: 0.0284\n",
      "Epoch 24/100\n",
      "24/24 [==============================] - 0s 1ms/step - loss: 0.0474\n",
      "Epoch 25/100\n",
      "24/24 [==============================] - 0s 603us/step - loss: 0.0374\n",
      "Epoch 26/100\n",
      "24/24 [==============================] - 0s 1ms/step - loss: 0.0527\n",
      "Epoch 27/100\n",
      "24/24 [==============================] - 0s 1ms/step - loss: 0.0469\n",
      "Epoch 28/100\n",
      "24/24 [==============================] - 0s 1ms/step - loss: 0.0491\n",
      "Epoch 29/100\n",
      "24/24 [==============================] - 0s 958us/step - loss: 0.0402\n",
      "Epoch 30/100\n",
      "24/24 [==============================] - 0s 995us/step - loss: 0.0434\n",
      "Epoch 31/100\n",
      "24/24 [==============================] - 0s 796us/step - loss: 0.0540\n",
      "Epoch 32/100\n",
      "24/24 [==============================] - 0s 925us/step - loss: 0.0348\n",
      "Epoch 33/100\n",
      "24/24 [==============================] - 0s 984us/step - loss: 0.0429\n",
      "Epoch 34/100\n",
      "24/24 [==============================] - 0s 844us/step - loss: 0.0365\n",
      "Epoch 35/100\n",
      "24/24 [==============================] - 0s 632us/step - loss: 0.0330\n",
      "Epoch 36/100\n",
      "24/24 [==============================] - 0s 1ms/step - loss: 0.0512\n",
      "Epoch 37/100\n",
      "24/24 [==============================] - 0s 596us/step - loss: 0.0413\n",
      "Epoch 38/100\n",
      "24/24 [==============================] - 0s 1ms/step - loss: 0.0318\n",
      "Epoch 39/100\n",
      "24/24 [==============================] - 0s 828us/step - loss: 0.0345\n",
      "Epoch 40/100\n",
      "24/24 [==============================] - 0s 1ms/step - loss: 0.0418\n",
      "Epoch 41/100\n",
      "24/24 [==============================] - 0s 916us/step - loss: 0.0439\n",
      "Epoch 42/100\n",
      "24/24 [==============================] - 0s 452us/step - loss: 0.0442\n",
      "Epoch 43/100\n",
      "24/24 [==============================] - 0s 974us/step - loss: 0.0399\n",
      "Epoch 44/100\n",
      "24/24 [==============================] - 0s 414us/step - loss: 0.0335\n",
      "Epoch 45/100\n",
      "24/24 [==============================] - 0s 1ms/step - loss: 0.0371\n",
      "Epoch 46/100\n",
      "24/24 [==============================] - 0s 860us/step - loss: 0.0378\n",
      "Epoch 47/100\n",
      "24/24 [==============================] - 0s 819us/step - loss: 0.0338\n",
      "Epoch 48/100\n",
      "24/24 [==============================] - 0s 995us/step - loss: 0.0349\n",
      "Epoch 49/100\n",
      "24/24 [==============================] - 0s 857us/step - loss: 0.0347\n",
      "Epoch 50/100\n",
      "24/24 [==============================] - 0s 787us/step - loss: 0.0314\n",
      "Epoch 51/100\n",
      "24/24 [==============================] - 0s 817us/step - loss: 0.0383\n",
      "Epoch 52/100\n",
      "24/24 [==============================] - 0s 1ms/step - loss: 0.0425\n",
      "Epoch 53/100\n",
      "24/24 [==============================] - 0s 314us/step - loss: 0.0400\n",
      "Epoch 54/100\n",
      "24/24 [==============================] - 0s 886us/step - loss: 0.0339\n",
      "Epoch 55/100\n",
      "24/24 [==============================] - 0s 688us/step - loss: 0.0421\n",
      "Epoch 56/100\n",
      "24/24 [==============================] - 0s 689us/step - loss: 0.0367\n",
      "Epoch 57/100\n",
      "24/24 [==============================] - 0s 2ms/step - loss: 0.0328\n",
      "Epoch 58/100\n",
      "24/24 [==============================] - 0s 594us/step - loss: 0.0341\n",
      "Epoch 59/100\n",
      "24/24 [==============================] - 0s 1ms/step - loss: 0.0392\n",
      "Epoch 60/100\n",
      "24/24 [==============================] - 0s 1ms/step - loss: 0.0328\n",
      "Epoch 61/100\n",
      "24/24 [==============================] - 0s 611us/step - loss: 0.0332\n",
      "Epoch 62/100\n",
      "24/24 [==============================] - 0s 605us/step - loss: 0.0327\n",
      "Epoch 63/100\n",
      "24/24 [==============================] - 0s 958us/step - loss: 0.0313\n",
      "Epoch 64/100\n",
      "24/24 [==============================] - 0s 809us/step - loss: 0.0332\n",
      "Epoch 65/100\n",
      "24/24 [==============================] - 0s 737us/step - loss: 0.0344\n",
      "Epoch 66/100\n",
      "24/24 [==============================] - 0s 777us/step - loss: 0.0383\n",
      "Epoch 67/100\n",
      "24/24 [==============================] - 0s 803us/step - loss: 0.0322\n",
      "Epoch 68/100\n",
      "24/24 [==============================] - 0s 860us/step - loss: 0.0270\n",
      "Epoch 69/100\n",
      "24/24 [==============================] - 0s 579us/step - loss: 0.0332\n",
      "Epoch 70/100\n",
      "24/24 [==============================] - 0s 893us/step - loss: 0.0221\n",
      "Epoch 71/100\n",
      "24/24 [==============================] - 0s 469us/step - loss: 0.0369\n",
      "Epoch 72/100\n",
      "24/24 [==============================] - 0s 1ms/step - loss: 0.0259\n",
      "Epoch 73/100\n",
      "24/24 [==============================] - 0s 610us/step - loss: 0.0368\n",
      "Epoch 74/100\n",
      "24/24 [==============================] - 0s 507us/step - loss: 0.0300\n",
      "Epoch 75/100\n",
      "24/24 [==============================] - 0s 1ms/step - loss: 0.0358\n",
      "Epoch 76/100\n",
      "24/24 [==============================] - 0s 389us/step - loss: 0.0283\n",
      "Epoch 77/100\n",
      "24/24 [==============================] - 0s 1ms/step - loss: 0.0339\n",
      "Epoch 78/100\n",
      "24/24 [==============================] - 0s 620us/step - loss: 0.0327\n",
      "Epoch 79/100\n",
      "24/24 [==============================] - 0s 924us/step - loss: 0.0384\n",
      "Epoch 80/100\n",
      "24/24 [==============================] - 0s 688us/step - loss: 0.0348\n",
      "Epoch 81/100\n",
      "24/24 [==============================] - 0s 407us/step - loss: 0.0281\n",
      "Epoch 82/100\n",
      "24/24 [==============================] - 0s 605us/step - loss: 0.0362\n",
      "Epoch 83/100\n",
      "24/24 [==============================] - 0s 839us/step - loss: 0.0339\n",
      "Epoch 84/100\n",
      "24/24 [==============================] - 0s 917us/step - loss: 0.0383\n",
      "Epoch 85/100\n",
      "24/24 [==============================] - 0s 830us/step - loss: 0.0312\n",
      "Epoch 86/100\n",
      "24/24 [==============================] - 0s 795us/step - loss: 0.0285\n",
      "Epoch 87/100\n",
      "24/24 [==============================] - 0s 658us/step - loss: 0.0322\n",
      "Epoch 88/100\n",
      "24/24 [==============================] - 0s 554us/step - loss: 0.0303\n",
      "Epoch 89/100\n",
      "24/24 [==============================] - 0s 674us/step - loss: 0.0208\n",
      "Epoch 90/100\n",
      "24/24 [==============================] - 0s 1ms/step - loss: 0.0281\n",
      "Epoch 91/100\n",
      "24/24 [==============================] - 0s 617us/step - loss: 0.0317\n",
      "Epoch 92/100\n",
      "24/24 [==============================] - 0s 225us/step - loss: 0.0253\n",
      "Epoch 93/100\n",
      "24/24 [==============================] - 0s 1ms/step - loss: 0.0279\n",
      "Epoch 94/100\n",
      "24/24 [==============================] - 0s 734us/step - loss: 0.0288\n",
      "Epoch 95/100\n",
      "24/24 [==============================] - 0s 905us/step - loss: 0.0275\n",
      "Epoch 96/100\n",
      "24/24 [==============================] - 0s 390us/step - loss: 0.0201\n",
      "Epoch 97/100\n",
      "24/24 [==============================] - 0s 803us/step - loss: 0.0224\n",
      "Epoch 98/100\n",
      "24/24 [==============================] - 0s 1ms/step - loss: 0.0316\n",
      "Epoch 99/100\n",
      "24/24 [==============================] - 0s 621us/step - loss: 0.0221\n",
      "Epoch 100/100\n",
      "24/24 [==============================] - 0s 841us/step - loss: 0.0279\n"
     ]
    },
    {
     "data": {
      "text/plain": [
       "<keras.callbacks.History at 0x20413e8e860>"
      ]
     },
     "execution_count": 12,
     "metadata": {},
     "output_type": "execute_result"
    }
   ],
   "source": [
    "# Fitting the RNN to the Training set\n",
    "regressor.fit(x_train, y_train, epochs = 100, batch_size = 32)"
   ]
  },
  {
   "cell_type": "code",
   "execution_count": 15,
   "metadata": {},
   "outputs": [],
   "source": [
    "x_test = [155, 134, 77550]\n"
   ]
  },
  {
   "cell_type": "code",
   "execution_count": null,
   "metadata": {},
   "outputs": [],
   "source": []
  }
 ],
 "metadata": {
  "kernelspec": {
   "display_name": "Python 3",
   "language": "python",
   "name": "python3"
  },
  "language_info": {
   "codemirror_mode": {
    "name": "ipython",
    "version": 3
   },
   "file_extension": ".py",
   "mimetype": "text/x-python",
   "name": "python",
   "nbconvert_exporter": "python",
   "pygments_lexer": "ipython3",
   "version": "3.6.1"
  }
 },
 "nbformat": 4,
 "nbformat_minor": 2
}
