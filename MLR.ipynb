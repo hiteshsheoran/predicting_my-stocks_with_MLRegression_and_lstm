{
 "cells": [
  {
   "cell_type": "code",
   "execution_count": 11,
   "metadata": {},
   "outputs": [],
   "source": [
    "#importing the libraries\n",
    "import numpy as np\n",
    "import matplotlib.pyplot as plt\n",
    "import pandas as pd"
   ]
  },
  {
   "cell_type": "code",
   "execution_count": 12,
   "metadata": {},
   "outputs": [],
   "source": [
    "#importing the data\n",
    "dataset_tv = pd.read_csv('2018-07-12_161320_mentions_by_media_type.csv')\n",
    "dataset_radio = pd.read_csv('2018-07-12_161430_mentions_by_media_type.csv')\n",
    "dataset_online_news = pd.read_csv('ONLINE-NEWS.csv')\n",
    "dataset_stocks = pd.read_csv('MSFT.csv')"
   ]
  },
  {
   "cell_type": "code",
   "execution_count": 13,
   "metadata": {},
   "outputs": [],
   "source": [
    "#removing excess information\n",
    "dataset_radio_new = dataset_radio.iloc[0:31,2:3] \n",
    "dataset_onlinenews_new = dataset_online_news.iloc[:,2:3]\n",
    "dataset_tv_new = dataset_tv.iloc[0:31,2:3]\n",
    "dataset_stocks_new = dataset_stocks.iloc[0:31,1:2]"
   ]
  },
  {
   "cell_type": "code",
   "execution_count": 14,
   "metadata": {},
   "outputs": [],
   "source": [
    "#concatinating the total data together\n",
    "dataset_total = pd.concat((dataset_tv_new['MENTIONS'], dataset_radio_new['MENTIONS'], dataset_online_news['MENTIONS'], dataset_stocks_new['Open']), axis = 1)"
   ]
  },
  {
   "cell_type": "code",
   "execution_count": 15,
   "metadata": {},
   "outputs": [],
   "source": [
    "#feature scaling \n",
    "from sklearn.preprocessing import MinMaxScaler\n",
    "sc = MinMaxScaler(feature_range = (0, 1))\n",
    "training_dataset_scaled = sc.fit_transform(dataset_total)"
   ]
  },
  {
   "cell_type": "code",
   "execution_count": 16,
   "metadata": {},
   "outputs": [
    {
     "data": {
      "text/plain": [
       "array([[0.17684211, 0.        , 0.35219687, 0.48423061],\n",
       "       [0.        , 0.14263323, 0.48998705, 0.39332152],\n",
       "       [0.15368421, 0.3322884 , 0.4485404 , 0.46567755],\n",
       "       [0.46315789, 0.62695925, 0.04483411, 0.62894304],\n",
       "       [0.56421053, 0.35736677, 0.        , 0.62894304],\n",
       "       [0.16842105, 0.27586207, 0.63365547, 0.79220872]])"
      ]
     },
     "execution_count": 16,
     "metadata": {},
     "output_type": "execute_result"
    }
   ],
   "source": [
    "# Creating a data structure with 6 timesteps and 1 output\n",
    "x_train = []\n",
    "y_train = []\n",
    "for i in range(6, 30):\n",
    "    x_train.append(training_dataset_scaled[i-6:i,0:4])\n",
    "    y_train.append(training_dataset_scaled[i,3])\n",
    "x_train, y_train = np.array(x_train), np.array(y_train)\n",
    "x_train[22]"
   ]
  },
  {
   "cell_type": "code",
   "execution_count": 17,
   "metadata": {},
   "outputs": [],
   "source": [
    "## reshaping\n",
    "x_train = np.reshape(x_train, (x_train.shape[0], x_train.shape[1],x_train.shape[2]))"
   ]
  },
  {
   "cell_type": "code",
   "execution_count": 18,
   "metadata": {},
   "outputs": [],
   "source": [
    "#Building the RNN\n",
    "\n",
    "#importing the keras library and pakages\n",
    "from keras.models import Sequential\n",
    "from keras.layers import Dropout\n",
    "from keras.layers import Dense\n",
    "from keras.layers import LSTM"
   ]
  },
  {
   "cell_type": "code",
   "execution_count": 19,
   "metadata": {},
   "outputs": [],
   "source": [
    "#initialising the rnn\n",
    "regressor = Sequential() "
   ]
  },
  {
   "cell_type": "code",
   "execution_count": 20,
   "metadata": {},
   "outputs": [],
   "source": [
    "# Adding the first LSTM layer and some Dropout regularisation\n",
    "regressor.add(LSTM(units = 20, return_sequences = True, input_shape = (x_train.shape[1],x_train.shape[2])))\n",
    "regressor.add(Dropout(0.2))\n",
    "\n",
    "# Adding a second LSTM layer and some Dropout regularisation\n",
    "regressor.add(LSTM(units = 20, return_sequences = True))\n",
    "regressor.add(Dropout(0.2))\n",
    "\n",
    "# Adding a third LSTM layer and some Dropout regularisation\n",
    "regressor.add(LSTM(units = 20))\n",
    "regressor.add(Dropout(0.2))\n",
    "\n",
    "# Adding the output layer\n",
    "regressor.add(Dense(units = 1))"
   ]
  },
  {
   "cell_type": "code",
   "execution_count": 21,
   "metadata": {},
   "outputs": [],
   "source": [
    "# Compiling the RNN\n",
    "regressor.compile(optimizer = 'adam', loss = 'mean_squared_error')"
   ]
  },
  {
   "cell_type": "code",
   "execution_count": 22,
   "metadata": {},
   "outputs": [
    {
     "name": "stdout",
     "output_type": "stream",
     "text": [
      "Epoch 1/100\n",
      "24/24 [==============================] - 2s 88ms/step - loss: 0.2409\n",
      "Epoch 2/100\n",
      "24/24 [==============================] - 0s 982us/step - loss: 0.2242\n",
      "Epoch 3/100\n",
      "24/24 [==============================] - 0s 583us/step - loss: 0.2041\n",
      "Epoch 4/100\n",
      "24/24 [==============================] - 0s 1ms/step - loss: 0.1988\n",
      "Epoch 5/100\n",
      "24/24 [==============================] - 0s 797us/step - loss: 0.1811\n",
      "Epoch 6/100\n",
      "24/24 [==============================] - 0s 683us/step - loss: 0.1633\n",
      "Epoch 7/100\n",
      "24/24 [==============================] - 0s 707us/step - loss: 0.1553\n",
      "Epoch 8/100\n",
      "24/24 [==============================] - 0s 1ms/step - loss: 0.1408\n",
      "Epoch 9/100\n",
      "24/24 [==============================] - 0s 827us/step - loss: 0.1258\n",
      "Epoch 10/100\n",
      "24/24 [==============================] - 0s 823us/step - loss: 0.1119\n",
      "Epoch 11/100\n",
      "24/24 [==============================] - 0s 1ms/step - loss: 0.0932\n",
      "Epoch 12/100\n",
      "24/24 [==============================] - 0s 860us/step - loss: 0.0897\n",
      "Epoch 13/100\n",
      "24/24 [==============================] - 0s 1ms/step - loss: 0.0729\n",
      "Epoch 14/100\n",
      "24/24 [==============================] - 0s 753us/step - loss: 0.0649\n",
      "Epoch 15/100\n",
      "24/24 [==============================] - 0s 1ms/step - loss: 0.0559\n",
      "Epoch 16/100\n",
      "24/24 [==============================] - 0s 900us/step - loss: 0.0650\n",
      "Epoch 17/100\n",
      "24/24 [==============================] - 0s 1ms/step - loss: 0.0600\n",
      "Epoch 18/100\n",
      "24/24 [==============================] - 0s 666us/step - loss: 0.0739\n",
      "Epoch 19/100\n",
      "24/24 [==============================] - 0s 1ms/step - loss: 0.0585\n",
      "Epoch 20/100\n",
      "24/24 [==============================] - 0s 1ms/step - loss: 0.0658\n",
      "Epoch 21/100\n",
      "24/24 [==============================] - 0s 999us/step - loss: 0.0705\n",
      "Epoch 22/100\n",
      "24/24 [==============================] - 0s 809us/step - loss: 0.0647\n",
      "Epoch 23/100\n",
      "24/24 [==============================] - 0s 666us/step - loss: 0.0712\n",
      "Epoch 24/100\n",
      "24/24 [==============================] - 0s 832us/step - loss: 0.0736\n",
      "Epoch 25/100\n",
      "24/24 [==============================] - 0s 883us/step - loss: 0.0649\n",
      "Epoch 26/100\n",
      "24/24 [==============================] - 0s 998us/step - loss: 0.0556\n",
      "Epoch 27/100\n",
      "24/24 [==============================] - 0s 790us/step - loss: 0.0537\n",
      "Epoch 28/100\n",
      "24/24 [==============================] - 0s 666us/step - loss: 0.0684\n",
      "Epoch 29/100\n",
      "24/24 [==============================] - 0s 832us/step - loss: 0.0505\n",
      "Epoch 30/100\n",
      "24/24 [==============================] - 0s 832us/step - loss: 0.0564\n",
      "Epoch 31/100\n",
      "24/24 [==============================] - 0s 1ms/step - loss: 0.0640\n",
      "Epoch 32/100\n",
      "24/24 [==============================] - 0s 832us/step - loss: 0.0487\n",
      "Epoch 33/100\n",
      "24/24 [==============================] - 0s 832us/step - loss: 0.0460\n",
      "Epoch 34/100\n",
      "24/24 [==============================] - 0s 551us/step - loss: 0.0480\n",
      "Epoch 35/100\n",
      "24/24 [==============================] - 0s 457us/step - loss: 0.0522\n",
      "Epoch 36/100\n",
      "24/24 [==============================] - 0s 748us/step - loss: 0.0557\n",
      "Epoch 37/100\n",
      "24/24 [==============================] - 0s 1ms/step - loss: 0.0465\n",
      "Epoch 38/100\n",
      "24/24 [==============================] - 0s 640us/step - loss: 0.0529\n",
      "Epoch 39/100\n",
      "24/24 [==============================] - 0s 999us/step - loss: 0.0537\n",
      "Epoch 40/100\n",
      "24/24 [==============================] - 0s 666us/step - loss: 0.0605\n",
      "Epoch 41/100\n",
      "24/24 [==============================] - 0s 832us/step - loss: 0.0617\n",
      "Epoch 42/100\n",
      "24/24 [==============================] - 0s 832us/step - loss: 0.0614\n",
      "Epoch 43/100\n",
      "24/24 [==============================] - 0s 666us/step - loss: 0.0631\n",
      "Epoch 44/100\n",
      "24/24 [==============================] - 0s 979us/step - loss: 0.0547\n",
      "Epoch 45/100\n",
      "24/24 [==============================] - 0s 832us/step - loss: 0.0482\n",
      "Epoch 46/100\n",
      "24/24 [==============================] - 0s 666us/step - loss: 0.0501\n",
      "Epoch 47/100\n",
      "24/24 [==============================] - 0s 999us/step - loss: 0.0428\n",
      "Epoch 48/100\n",
      "24/24 [==============================] - 0s 999us/step - loss: 0.0534\n",
      "Epoch 49/100\n",
      "24/24 [==============================] - 0s 871us/step - loss: 0.0609\n",
      "Epoch 50/100\n",
      "24/24 [==============================] - 0s 999us/step - loss: 0.0455\n",
      "Epoch 51/100\n",
      "24/24 [==============================] - 0s 1ms/step - loss: 0.0483\n",
      "Epoch 52/100\n",
      "24/24 [==============================] - 0s 839us/step - loss: 0.0499\n",
      "Epoch 53/100\n",
      "24/24 [==============================] - 0s 666us/step - loss: 0.0415\n",
      "Epoch 54/100\n",
      "24/24 [==============================] - 0s 999us/step - loss: 0.0587\n",
      "Epoch 55/100\n",
      "24/24 [==============================] - 0s 666us/step - loss: 0.0574\n",
      "Epoch 56/100\n",
      "24/24 [==============================] - 0s 666us/step - loss: 0.0474\n",
      "Epoch 57/100\n",
      "24/24 [==============================] - 0s 887us/step - loss: 0.0482\n",
      "Epoch 58/100\n",
      "24/24 [==============================] - 0s 999us/step - loss: 0.0525\n",
      "Epoch 59/100\n",
      "24/24 [==============================] - 0s 1ms/step - loss: 0.0493\n",
      "Epoch 60/100\n",
      "24/24 [==============================] - 0s 499us/step - loss: 0.0560\n",
      "Epoch 61/100\n",
      "24/24 [==============================] - 0s 832us/step - loss: 0.0469\n",
      "Epoch 62/100\n",
      "24/24 [==============================] - 0s 999us/step - loss: 0.0548\n",
      "Epoch 63/100\n",
      "24/24 [==============================] - 0s 536us/step - loss: 0.0484\n",
      "Epoch 64/100\n",
      "24/24 [==============================] - 0s 651us/step - loss: 0.0462\n",
      "Epoch 65/100\n",
      "24/24 [==============================] - 0s 1ms/step - loss: 0.0468\n",
      "Epoch 66/100\n",
      "24/24 [==============================] - 0s 499us/step - loss: 0.0409\n",
      "Epoch 67/100\n",
      "24/24 [==============================] - 0s 666us/step - loss: 0.0462\n",
      "Epoch 68/100\n",
      "24/24 [==============================] - 0s 666us/step - loss: 0.0441\n",
      "Epoch 69/100\n",
      "24/24 [==============================] - 0s 666us/step - loss: 0.0550\n",
      "Epoch 70/100\n",
      "24/24 [==============================] - 0s 499us/step - loss: 0.0499\n",
      "Epoch 71/100\n",
      "24/24 [==============================] - 0s 666us/step - loss: 0.0661\n",
      "Epoch 72/100\n",
      "24/24 [==============================] - 0s 850us/step - loss: 0.0483\n",
      "Epoch 73/100\n",
      "24/24 [==============================] - 0s 999us/step - loss: 0.0537\n",
      "Epoch 74/100\n",
      "24/24 [==============================] - 0s 637us/step - loss: 0.0477\n",
      "Epoch 75/100\n",
      "24/24 [==============================] - 0s 666us/step - loss: 0.0462\n",
      "Epoch 76/100\n",
      "24/24 [==============================] - 0s 999us/step - loss: 0.0475\n",
      "Epoch 77/100\n",
      "24/24 [==============================] - 0s 924us/step - loss: 0.0578\n",
      "Epoch 78/100\n",
      "24/24 [==============================] - 0s 666us/step - loss: 0.0485\n",
      "Epoch 79/100\n",
      "24/24 [==============================] - 0s 666us/step - loss: 0.0465\n",
      "Epoch 80/100\n",
      "24/24 [==============================] - 0s 950us/step - loss: 0.0605\n",
      "Epoch 81/100\n",
      "24/24 [==============================] - 0s 1ms/step - loss: 0.0493\n",
      "Epoch 82/100\n",
      "24/24 [==============================] - 0s 666us/step - loss: 0.0496\n",
      "Epoch 83/100\n",
      "24/24 [==============================] - 0s 666us/step - loss: 0.0572\n",
      "Epoch 84/100\n",
      "24/24 [==============================] - 0s 665us/step - loss: 0.0518\n",
      "Epoch 85/100\n",
      "24/24 [==============================] - 0s 997us/step - loss: 0.0503\n",
      "Epoch 86/100\n",
      "24/24 [==============================] - 0s 653us/step - loss: 0.0410\n",
      "Epoch 87/100\n",
      "24/24 [==============================] - 0s 1ms/step - loss: 0.0477\n",
      "Epoch 88/100\n",
      "24/24 [==============================] - 0s 666us/step - loss: 0.0410\n",
      "Epoch 89/100\n",
      "24/24 [==============================] - 0s 826us/step - loss: 0.0549\n",
      "Epoch 90/100\n",
      "24/24 [==============================] - 0s 861us/step - loss: 0.0399\n",
      "Epoch 91/100\n",
      "24/24 [==============================] - 0s 832us/step - loss: 0.0483\n",
      "Epoch 92/100\n",
      "24/24 [==============================] - 0s 832us/step - loss: 0.0518\n",
      "Epoch 93/100\n",
      "24/24 [==============================] - 0s 643us/step - loss: 0.0515\n",
      "Epoch 94/100\n",
      "24/24 [==============================] - 0s 666us/step - loss: 0.0406\n",
      "Epoch 95/100\n",
      "24/24 [==============================] - 0s 666us/step - loss: 0.0424\n",
      "Epoch 96/100\n",
      "24/24 [==============================] - 0s 832us/step - loss: 0.0502\n",
      "Epoch 97/100\n",
      "24/24 [==============================] - 0s 499us/step - loss: 0.0426\n",
      "Epoch 98/100\n",
      "24/24 [==============================] - 0s 570us/step - loss: 0.0464\n",
      "Epoch 99/100\n",
      "24/24 [==============================] - 0s 666us/step - loss: 0.0564\n",
      "Epoch 100/100\n",
      "24/24 [==============================] - 0s 832us/step - loss: 0.0392\n"
     ]
    },
    {
     "data": {
      "text/plain": [
       "<keras.callbacks.History at 0x1de57440748>"
      ]
     },
     "execution_count": 22,
     "metadata": {},
     "output_type": "execute_result"
    }
   ],
   "source": [
    "# Fitting the RNN to the Training set\n",
    "regressor.fit(x_train, y_train, epochs = 100, batch_size = 32)"
   ]
  },
  {
   "cell_type": "code",
   "execution_count": null,
   "metadata": {},
   "outputs": [],
   "source": []
  }
 ],
 "metadata": {
  "kernelspec": {
   "display_name": "Python 3",
   "language": "python",
   "name": "python3"
  },
  "language_info": {
   "codemirror_mode": {
    "name": "ipython",
    "version": 3
   },
   "file_extension": ".py",
   "mimetype": "text/x-python",
   "name": "python",
   "nbconvert_exporter": "python",
   "pygments_lexer": "ipython3",
   "version": "3.6.1"
  }
 },
 "nbformat": 4,
 "nbformat_minor": 2
}
